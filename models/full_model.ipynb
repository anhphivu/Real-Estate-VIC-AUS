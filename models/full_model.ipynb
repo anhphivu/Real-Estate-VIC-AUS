{
 "cells": [
  {
   "cell_type": "code",
   "execution_count": 1,
   "metadata": {},
   "outputs": [
    {
     "name": "stderr",
     "output_type": "stream",
     "text": [
      "/Users/phivu/opt/anaconda3/lib/python3.9/site-packages/geopandas/_compat.py:124: UserWarning: The Shapely GEOS version (3.11.1-CAPI-1.17.1) is incompatible with the GEOS version PyGEOS was compiled with (3.10.4-CAPI-1.16.2). Conversions between both will be slow.\n",
      "  warnings.warn(\n",
      "/var/folders/yy/7q_gmwc10sd3qdpgyfbhm17c0000gn/T/ipykernel_20530/2484224172.py:3: DeprecationWarning: Shapely 2.0 is installed, but because PyGEOS is also installed, GeoPandas still uses PyGEOS by default. However, starting with version 0.14, the default will switch to Shapely. To force to use Shapely 2.0 now, you can either uninstall PyGEOS or set the environment variable USE_PYGEOS=0. You can do this before starting the Python process, or in your code before importing geopandas:\n",
      "\n",
      "import os\n",
      "os.environ['USE_PYGEOS'] = '0'\n",
      "import geopandas\n",
      "\n",
      "In the next release, GeoPandas will switch to using Shapely by default, even if PyGEOS is installed. If you only have PyGEOS installed to get speed-ups, this switch should be smooth. However, if you are using PyGEOS directly (calling PyGEOS functions on geometries from GeoPandas), this will then stop working and you are encouraged to migrate from PyGEOS to Shapely 2.0 (https://shapely.readthedocs.io/en/latest/migration_pygeos.html).\n",
      "  import geopandas as gpd\n"
     ]
    }
   ],
   "source": [
    "import numpy as np \n",
    "import pandas as pd\n",
    "import geopandas as gpd\n",
    "import matplotlib.pyplot as plt\n",
    "from sklearn.model_selection import train_test_split\n",
    "from sklearn.utils import shuffle\n",
    "from sklearn.preprocessing import LabelEncoder\n",
    "import statsmodels.api as sm\n",
    "from sklearn.ensemble import RandomForestRegressor\n",
    "from sklearn.metrics import r2_score, mean_squared_error\n",
    "import seaborn as sns\n",
    "from sklearn.preprocessing import StandardScaler\n",
    "\n",
    "import warnings\n",
    "warnings.simplefilter(action='ignore', category=FutureWarning)\n",
    "pd.options.mode.chained_assignment = None"
   ]
  },
  {
   "cell_type": "markdown",
   "metadata": {},
   "source": [
    "### 1. Load data"
   ]
  },
  {
   "cell_type": "code",
   "execution_count": 2,
   "metadata": {},
   "outputs": [
    {
     "data": {
      "text/plain": [
       "Index(['id', 'postcode', 'type', 'price', 'bond', 'bed', 'bath', 'parking',\n",
       "       'is_furnished', 'latitude', 'longitude', 'sa2', 'dist_CBD',\n",
       "       'dist_public_transport', 'dist_hospital', 'dist_police_station',\n",
       "       'dist_supermarket', 'dist_market', 'dist_shopping_center',\n",
       "       'dist_school', 'dur_CBD', 'dur_public_transport', 'dur_hospital',\n",
       "       'dur_police_station', 'dur_supermarket', 'dur_market',\n",
       "       'dur_shopping_center', 'dur_school', 'income', 'population_density',\n",
       "       'crime_density', 'rent'],\n",
       "      dtype='object')"
      ]
     },
     "execution_count": 2,
     "metadata": {},
     "output_type": "execute_result"
    }
   ],
   "source": [
    "merged = pd.read_csv('../data/curated/prop_feature.csv')\n",
    "merged.columns"
   ]
  },
  {
   "cell_type": "markdown",
   "metadata": {},
   "source": [
    "Encoding property type"
   ]
  },
  {
   "cell_type": "code",
   "execution_count": 3,
   "metadata": {},
   "outputs": [],
   "source": [
    "type_encoder = LabelEncoder()\n",
    "type_encoder.fit(merged['type'])\n",
    "merged['type'] = type_encoder.transform(merged['type'])"
   ]
  },
  {
   "cell_type": "code",
   "execution_count": 4,
   "metadata": {},
   "outputs": [
    {
     "data": {
      "text/plain": [
       "array([0, 1, 2])"
      ]
     },
     "execution_count": 4,
     "metadata": {},
     "output_type": "execute_result"
    }
   ],
   "source": [
    "type_encoder.transform(['Apartment / Unit / Flat', 'House', 'Other'])"
   ]
  },
  {
   "cell_type": "code",
   "execution_count": 5,
   "metadata": {},
   "outputs": [],
   "source": [
    "shuffled_data = shuffle(merged, random_state=30034)"
   ]
  },
  {
   "cell_type": "code",
   "execution_count": 6,
   "metadata": {},
   "outputs": [
    {
     "data": {
      "text/plain": [
       "((8974, 18), (8974,))"
      ]
     },
     "execution_count": 6,
     "metadata": {},
     "output_type": "execute_result"
    }
   ],
   "source": [
    "useful = ['type', 'bond', 'bed', 'bath', 'parking',\n",
    "                'is_furnished', 'dist_CBD', 'dist_public_transport', 'dist_hospital',\n",
    "                'dist_police_station', 'dist_supermarket', 'dist_market',\n",
    "                'dist_shopping_center', 'dist_school', 'income', 'population_density', 'crime_density',\n",
    "                'rent']\n",
    "feature = shuffled_data[useful]\n",
    "price = shuffled_data['price']\n",
    "feature.shape, price.shape"
   ]
  },
  {
   "cell_type": "markdown",
   "metadata": {},
   "source": [
    "### 2. Feature check with linear model"
   ]
  },
  {
   "cell_type": "code",
   "execution_count": 7,
   "metadata": {},
   "outputs": [
    {
     "data": {
      "text/html": [
       "<table class=\"simpletable\">\n",
       "<caption>OLS Regression Results</caption>\n",
       "<tr>\n",
       "  <th>Dep. Variable:</th>          <td>price</td>      <th>  R-squared:         </th> <td>   0.457</td> \n",
       "</tr>\n",
       "<tr>\n",
       "  <th>Model:</th>                   <td>OLS</td>       <th>  Adj. R-squared:    </th> <td>   0.456</td> \n",
       "</tr>\n",
       "<tr>\n",
       "  <th>Method:</th>             <td>Least Squares</td>  <th>  F-statistic:       </th> <td>   418.4</td> \n",
       "</tr>\n",
       "<tr>\n",
       "  <th>Date:</th>             <td>Fri, 20 Oct 2023</td> <th>  Prob (F-statistic):</th>  <td>  0.00</td>  \n",
       "</tr>\n",
       "<tr>\n",
       "  <th>Time:</th>                 <td>23:56:17</td>     <th>  Log-Likelihood:    </th> <td> -61789.</td> \n",
       "</tr>\n",
       "<tr>\n",
       "  <th>No. Observations:</th>      <td>  8974</td>      <th>  AIC:               </th> <td>1.236e+05</td>\n",
       "</tr>\n",
       "<tr>\n",
       "  <th>Df Residuals:</th>          <td>  8955</td>      <th>  BIC:               </th> <td>1.238e+05</td>\n",
       "</tr>\n",
       "<tr>\n",
       "  <th>Df Model:</th>              <td>    18</td>      <th>                     </th>     <td> </td>    \n",
       "</tr>\n",
       "<tr>\n",
       "  <th>Covariance Type:</th>      <td>nonrobust</td>    <th>                     </th>     <td> </td>    \n",
       "</tr>\n",
       "</table>\n",
       "<table class=\"simpletable\">\n",
       "<tr>\n",
       "            <td></td>               <th>coef</th>     <th>std err</th>      <th>t</th>      <th>P>|t|</th>  <th>[0.025</th>    <th>0.975]</th>  \n",
       "</tr>\n",
       "<tr>\n",
       "  <th>const</th>                 <td> -720.1413</td> <td>   27.126</td> <td>  -26.548</td> <td> 0.000</td> <td> -773.314</td> <td> -666.969</td>\n",
       "</tr>\n",
       "<tr>\n",
       "  <th>type</th>                  <td>  -11.3832</td> <td>    6.070</td> <td>   -1.875</td> <td> 0.061</td> <td>  -23.282</td> <td>    0.515</td>\n",
       "</tr>\n",
       "<tr>\n",
       "  <th>bond</th>                  <td>    0.0165</td> <td>    0.001</td> <td>   25.333</td> <td> 0.000</td> <td>    0.015</td> <td>    0.018</td>\n",
       "</tr>\n",
       "<tr>\n",
       "  <th>bed</th>                   <td>   71.7460</td> <td>    3.444</td> <td>   20.835</td> <td> 0.000</td> <td>   64.996</td> <td>   78.496</td>\n",
       "</tr>\n",
       "<tr>\n",
       "  <th>bath</th>                  <td>  141.6242</td> <td>    4.926</td> <td>   28.752</td> <td> 0.000</td> <td>  131.969</td> <td>  151.280</td>\n",
       "</tr>\n",
       "<tr>\n",
       "  <th>parking</th>               <td>   15.8365</td> <td>    2.739</td> <td>    5.783</td> <td> 0.000</td> <td>   10.468</td> <td>   21.205</td>\n",
       "</tr>\n",
       "<tr>\n",
       "  <th>is_furnished</th>          <td>   78.4959</td> <td>    7.719</td> <td>   10.169</td> <td> 0.000</td> <td>   63.365</td> <td>   93.627</td>\n",
       "</tr>\n",
       "<tr>\n",
       "  <th>dist_CBD</th>              <td>   -0.0002</td> <td> 3.99e-05</td> <td>   -4.776</td> <td> 0.000</td> <td>   -0.000</td> <td>   -0.000</td>\n",
       "</tr>\n",
       "<tr>\n",
       "  <th>dist_public_transport</th> <td>    0.0022</td> <td>    0.001</td> <td>    1.913</td> <td> 0.056</td> <td>-5.53e-05</td> <td>    0.005</td>\n",
       "</tr>\n",
       "<tr>\n",
       "  <th>dist_hospital</th>         <td>    0.0035</td> <td>    0.000</td> <td>    8.000</td> <td> 0.000</td> <td>    0.003</td> <td>    0.004</td>\n",
       "</tr>\n",
       "<tr>\n",
       "  <th>dist_police_station</th>   <td>   -0.0074</td> <td>    0.001</td> <td>   -7.352</td> <td> 0.000</td> <td>   -0.009</td> <td>   -0.005</td>\n",
       "</tr>\n",
       "<tr>\n",
       "  <th>dist_supermarket</th>      <td>   -0.0034</td> <td>    0.002</td> <td>   -1.809</td> <td> 0.070</td> <td>   -0.007</td> <td>    0.000</td>\n",
       "</tr>\n",
       "<tr>\n",
       "  <th>dist_market</th>           <td>   -0.0052</td> <td>    0.002</td> <td>   -3.000</td> <td> 0.003</td> <td>   -0.009</td> <td>   -0.002</td>\n",
       "</tr>\n",
       "<tr>\n",
       "  <th>dist_shopping_center</th>  <td>    0.0013</td> <td>    0.001</td> <td>    2.510</td> <td> 0.012</td> <td>    0.000</td> <td>    0.002</td>\n",
       "</tr>\n",
       "<tr>\n",
       "  <th>dist_school</th>           <td>   -0.0006</td> <td>    0.002</td> <td>   -0.311</td> <td> 0.756</td> <td>   -0.004</td> <td>    0.003</td>\n",
       "</tr>\n",
       "<tr>\n",
       "  <th>income</th>                <td>    0.0057</td> <td>    0.000</td> <td>   20.333</td> <td> 0.000</td> <td>    0.005</td> <td>    0.006</td>\n",
       "</tr>\n",
       "<tr>\n",
       "  <th>population_density</th>    <td>    0.0027</td> <td>    0.001</td> <td>    3.141</td> <td> 0.002</td> <td>    0.001</td> <td>    0.004</td>\n",
       "</tr>\n",
       "<tr>\n",
       "  <th>crime_density</th>         <td>    0.0155</td> <td>    0.006</td> <td>    2.607</td> <td> 0.009</td> <td>    0.004</td> <td>    0.027</td>\n",
       "</tr>\n",
       "<tr>\n",
       "  <th>rent</th>                  <td>    1.0857</td> <td>    0.045</td> <td>   24.239</td> <td> 0.000</td> <td>    0.998</td> <td>    1.173</td>\n",
       "</tr>\n",
       "</table>\n",
       "<table class=\"simpletable\">\n",
       "<tr>\n",
       "  <th>Omnibus:</th>       <td>6997.891</td> <th>  Durbin-Watson:     </th>  <td>   2.013</td>  \n",
       "</tr>\n",
       "<tr>\n",
       "  <th>Prob(Omnibus):</th>  <td> 0.000</td>  <th>  Jarque-Bera (JB):  </th> <td>1952387.100</td>\n",
       "</tr>\n",
       "<tr>\n",
       "  <th>Skew:</th>           <td> 2.749</td>  <th>  Prob(JB):          </th>  <td>    0.00</td>  \n",
       "</tr>\n",
       "<tr>\n",
       "  <th>Kurtosis:</th>       <td>75.050</td>  <th>  Cond. No.          </th>  <td>1.08e+06</td>  \n",
       "</tr>\n",
       "</table><br/><br/>Notes:<br/>[1] Standard Errors assume that the covariance matrix of the errors is correctly specified.<br/>[2] The condition number is large, 1.08e+06. This might indicate that there are<br/>strong multicollinearity or other numerical problems."
      ],
      "text/plain": [
       "<class 'statsmodels.iolib.summary.Summary'>\n",
       "\"\"\"\n",
       "                            OLS Regression Results                            \n",
       "==============================================================================\n",
       "Dep. Variable:                  price   R-squared:                       0.457\n",
       "Model:                            OLS   Adj. R-squared:                  0.456\n",
       "Method:                 Least Squares   F-statistic:                     418.4\n",
       "Date:                Fri, 20 Oct 2023   Prob (F-statistic):               0.00\n",
       "Time:                        23:56:17   Log-Likelihood:                -61789.\n",
       "No. Observations:                8974   AIC:                         1.236e+05\n",
       "Df Residuals:                    8955   BIC:                         1.238e+05\n",
       "Df Model:                          18                                         \n",
       "Covariance Type:            nonrobust                                         \n",
       "=========================================================================================\n",
       "                            coef    std err          t      P>|t|      [0.025      0.975]\n",
       "-----------------------------------------------------------------------------------------\n",
       "const                  -720.1413     27.126    -26.548      0.000    -773.314    -666.969\n",
       "type                    -11.3832      6.070     -1.875      0.061     -23.282       0.515\n",
       "bond                      0.0165      0.001     25.333      0.000       0.015       0.018\n",
       "bed                      71.7460      3.444     20.835      0.000      64.996      78.496\n",
       "bath                    141.6242      4.926     28.752      0.000     131.969     151.280\n",
       "parking                  15.8365      2.739      5.783      0.000      10.468      21.205\n",
       "is_furnished             78.4959      7.719     10.169      0.000      63.365      93.627\n",
       "dist_CBD                 -0.0002   3.99e-05     -4.776      0.000      -0.000      -0.000\n",
       "dist_public_transport     0.0022      0.001      1.913      0.056   -5.53e-05       0.005\n",
       "dist_hospital             0.0035      0.000      8.000      0.000       0.003       0.004\n",
       "dist_police_station      -0.0074      0.001     -7.352      0.000      -0.009      -0.005\n",
       "dist_supermarket         -0.0034      0.002     -1.809      0.070      -0.007       0.000\n",
       "dist_market              -0.0052      0.002     -3.000      0.003      -0.009      -0.002\n",
       "dist_shopping_center      0.0013      0.001      2.510      0.012       0.000       0.002\n",
       "dist_school              -0.0006      0.002     -0.311      0.756      -0.004       0.003\n",
       "income                    0.0057      0.000     20.333      0.000       0.005       0.006\n",
       "population_density        0.0027      0.001      3.141      0.002       0.001       0.004\n",
       "crime_density             0.0155      0.006      2.607      0.009       0.004       0.027\n",
       "rent                      1.0857      0.045     24.239      0.000       0.998       1.173\n",
       "==============================================================================\n",
       "Omnibus:                     6997.891   Durbin-Watson:                   2.013\n",
       "Prob(Omnibus):                  0.000   Jarque-Bera (JB):          1952387.100\n",
       "Skew:                           2.749   Prob(JB):                         0.00\n",
       "Kurtosis:                      75.050   Cond. No.                     1.08e+06\n",
       "==============================================================================\n",
       "\n",
       "Notes:\n",
       "[1] Standard Errors assume that the covariance matrix of the errors is correctly specified.\n",
       "[2] The condition number is large, 1.08e+06. This might indicate that there are\n",
       "strong multicollinearity or other numerical problems.\n",
       "\"\"\""
      ]
     },
     "execution_count": 7,
     "metadata": {},
     "output_type": "execute_result"
    }
   ],
   "source": [
    "feature = sm.add_constant(feature)\n",
    "olsm = sm.OLS(price, feature).fit()\n",
    "olsm.summary()"
   ]
  },
  {
   "cell_type": "code",
   "execution_count": 8,
   "metadata": {},
   "outputs": [
    {
     "name": "stdout",
     "output_type": "stream",
     "text": [
      "Adding bath with p-value 0.0\n",
      "Adding rent with p-value 0.0\n",
      "Adding bond with p-value 5.71983e-162\n",
      "Adding const with p-value 2.68609e-109\n",
      "Adding income with p-value 3.85306e-62\n",
      "Adding bed with p-value 9.29727e-65\n",
      "Adding crime_density with p-value 1.05108e-51\n",
      "Adding is_furnished with p-value 4.80101e-23\n",
      "Adding dist_police_station with p-value 5.57438e-13\n",
      "Adding dist_hospital with p-value 1.05342e-13\n",
      "Adding parking with p-value 1.47706e-07\n",
      "Adding dist_CBD with p-value 9.59736e-06\n",
      "Adding dist_market with p-value 4.05123e-05\n",
      "Adding population_density with p-value 0.0023522\n",
      "Adding dist_shopping_center with p-value 0.002588\n"
     ]
    },
    {
     "data": {
      "text/plain": [
       "['bath',\n",
       " 'rent',\n",
       " 'bond',\n",
       " 'const',\n",
       " 'income',\n",
       " 'bed',\n",
       " 'crime_density',\n",
       " 'is_furnished',\n",
       " 'dist_police_station',\n",
       " 'dist_hospital',\n",
       " 'parking',\n",
       " 'dist_CBD',\n",
       " 'dist_market',\n",
       " 'population_density',\n",
       " 'dist_shopping_center']"
      ]
     },
     "execution_count": 8,
     "metadata": {},
     "output_type": "execute_result"
    }
   ],
   "source": [
    "import statsmodels.formula.api as smf\n",
    "\n",
    "def stepwise_selection(X, y, \n",
    "                       initial_list=[], \n",
    "                       threshold_in=0.01, \n",
    "                       threshold_out = 0.05, \n",
    "                       verbose=True):\n",
    "    \"\"\" \n",
    "    Perform a forward-backward feature selection \n",
    "    based on p-value from statsmodels.api.OLS\n",
    "    Arguments:\n",
    "        X - pandas.DataFrame with candidate features\n",
    "        y - list-like with the target\n",
    "        initial_list - list of features to start with (column names of X)\n",
    "        threshold_in - include a feature if its p-value < threshold_in\n",
    "        threshold_out - exclude a feature if its p-value > threshold_out\n",
    "        verbose - whether to print the sequence of inclusions and exclusions\n",
    "    Returns: list of selected features \n",
    "    \"\"\"\n",
    "    included = list(initial_list)\n",
    "    while True:\n",
    "        changed=False\n",
    "        # Forward step\n",
    "        excluded = list(set(X.columns) - set(included))\n",
    "        new_pval = pd.Series(index=excluded)\n",
    "        for new_column in excluded:\n",
    "            model = sm.OLS(y, sm.add_constant(pd.DataFrame(X[included + [new_column]]))).fit()\n",
    "            new_pval[new_column] = model.pvalues[new_column]\n",
    "        best_pval = new_pval.min()\n",
    "        if best_pval < threshold_in:\n",
    "            best_feature = new_pval.idxmin()\n",
    "            included.append(best_feature)\n",
    "            changed=True\n",
    "            if verbose:\n",
    "                print(f'Adding {best_feature} with p-value {best_pval:.6}')\n",
    "\n",
    "        # Backward step\n",
    "        model = sm.OLS(y, sm.add_constant(pd.DataFrame(X[included]))).fit()\n",
    "        # Use all coefs except intercept\n",
    "        pvalues = model.pvalues.iloc[1:]\n",
    "        worst_pval = pvalues.max() \n",
    "        if worst_pval > threshold_out:\n",
    "            changed=True\n",
    "            worst_feature = pvalues.idxmax()\n",
    "            included.remove(worst_feature)\n",
    "            if verbose:\n",
    "                print(f'Dropping {worst_feature} with p-value {worst_pval:.6}')\n",
    "        if not changed:\n",
    "            break\n",
    "    return included\n",
    "\n",
    "# Using the stepwise selection function to get the optimal predictors\n",
    "optimal_predictors = stepwise_selection(feature, price)\n",
    "optimal_predictors"
   ]
  },
  {
   "cell_type": "markdown",
   "metadata": {},
   "source": [
    "internal feature: feature directly related of the property\n",
    "\n",
    "external feature: feature related to the location of the property, including the distance to useful infrastructure and the feature of the sa2 region"
   ]
  },
  {
   "cell_type": "markdown",
   "metadata": {},
   "source": [
    "++++bath | +bond | +++bed | +++is_furnished | +parking | --type "
   ]
  },
  {
   "cell_type": "markdown",
   "metadata": {},
   "source": [
    "+rent | +income | -dist_police_station | +crime | +dist_hospital | +population_density | -dist_CBD | -dist_market | +dist_shopping_center"
   ]
  },
  {
   "cell_type": "code",
   "execution_count": 9,
   "metadata": {},
   "outputs": [
    {
     "data": {
      "text/html": [
       "<div>\n",
       "<style scoped>\n",
       "    .dataframe tbody tr th:only-of-type {\n",
       "        vertical-align: middle;\n",
       "    }\n",
       "\n",
       "    .dataframe tbody tr th {\n",
       "        vertical-align: top;\n",
       "    }\n",
       "\n",
       "    .dataframe thead th {\n",
       "        text-align: right;\n",
       "    }\n",
       "</style>\n",
       "<table border=\"1\" class=\"dataframe\">\n",
       "  <thead>\n",
       "    <tr style=\"text-align: right;\">\n",
       "      <th></th>\n",
       "      <th>bath</th>\n",
       "      <th>rent</th>\n",
       "      <th>bond</th>\n",
       "      <th>income</th>\n",
       "      <th>bed</th>\n",
       "      <th>population_density</th>\n",
       "      <th>is_furnished</th>\n",
       "      <th>dist_police_station</th>\n",
       "      <th>dist_hospital</th>\n",
       "      <th>parking</th>\n",
       "      <th>crime_density</th>\n",
       "      <th>dist_market</th>\n",
       "      <th>dist_CBD</th>\n",
       "      <th>dist_shopping_center</th>\n",
       "    </tr>\n",
       "  </thead>\n",
       "  <tbody>\n",
       "    <tr>\n",
       "      <th>6264</th>\n",
       "      <td>1.0</td>\n",
       "      <td>391.000000</td>\n",
       "      <td>1907.0</td>\n",
       "      <td>57800.000000</td>\n",
       "      <td>3.0</td>\n",
       "      <td>812.763501</td>\n",
       "      <td>0</td>\n",
       "      <td>2500</td>\n",
       "      <td>936</td>\n",
       "      <td>2.0</td>\n",
       "      <td>20.642723</td>\n",
       "      <td>1287</td>\n",
       "      <td>152867</td>\n",
       "      <td>1165</td>\n",
       "    </tr>\n",
       "    <tr>\n",
       "      <th>3780</th>\n",
       "      <td>1.0</td>\n",
       "      <td>450.000000</td>\n",
       "      <td>1955.0</td>\n",
       "      <td>65075.000000</td>\n",
       "      <td>2.0</td>\n",
       "      <td>3855.685494</td>\n",
       "      <td>0</td>\n",
       "      <td>2366</td>\n",
       "      <td>2843</td>\n",
       "      <td>1.0</td>\n",
       "      <td>368.195252</td>\n",
       "      <td>2270</td>\n",
       "      <td>19483</td>\n",
       "      <td>2349</td>\n",
       "    </tr>\n",
       "    <tr>\n",
       "      <th>5998</th>\n",
       "      <td>1.0</td>\n",
       "      <td>370.000000</td>\n",
       "      <td>1912.0</td>\n",
       "      <td>52497.443655</td>\n",
       "      <td>2.0</td>\n",
       "      <td>185.094974</td>\n",
       "      <td>0</td>\n",
       "      <td>1919</td>\n",
       "      <td>2683</td>\n",
       "      <td>1.0</td>\n",
       "      <td>22.288245</td>\n",
       "      <td>942</td>\n",
       "      <td>37802</td>\n",
       "      <td>1329</td>\n",
       "    </tr>\n",
       "    <tr>\n",
       "      <th>8068</th>\n",
       "      <td>2.0</td>\n",
       "      <td>403.333333</td>\n",
       "      <td>2390.0</td>\n",
       "      <td>62139.000000</td>\n",
       "      <td>4.0</td>\n",
       "      <td>212.902171</td>\n",
       "      <td>0</td>\n",
       "      <td>4665</td>\n",
       "      <td>8283</td>\n",
       "      <td>2.0</td>\n",
       "      <td>3.832719</td>\n",
       "      <td>5259</td>\n",
       "      <td>33544</td>\n",
       "      <td>3344</td>\n",
       "    </tr>\n",
       "    <tr>\n",
       "      <th>8680</th>\n",
       "      <td>2.0</td>\n",
       "      <td>377.666667</td>\n",
       "      <td>1907.0</td>\n",
       "      <td>58052.315190</td>\n",
       "      <td>4.0</td>\n",
       "      <td>205.436282</td>\n",
       "      <td>0</td>\n",
       "      <td>2690</td>\n",
       "      <td>2511</td>\n",
       "      <td>2.0</td>\n",
       "      <td>4.189601</td>\n",
       "      <td>2245</td>\n",
       "      <td>114133</td>\n",
       "      <td>2337</td>\n",
       "    </tr>\n",
       "    <tr>\n",
       "      <th>...</th>\n",
       "      <td>...</td>\n",
       "      <td>...</td>\n",
       "      <td>...</td>\n",
       "      <td>...</td>\n",
       "      <td>...</td>\n",
       "      <td>...</td>\n",
       "      <td>...</td>\n",
       "      <td>...</td>\n",
       "      <td>...</td>\n",
       "      <td>...</td>\n",
       "      <td>...</td>\n",
       "      <td>...</td>\n",
       "      <td>...</td>\n",
       "      <td>...</td>\n",
       "    </tr>\n",
       "    <tr>\n",
       "      <th>8500</th>\n",
       "      <td>1.0</td>\n",
       "      <td>320.000000</td>\n",
       "      <td>910.0</td>\n",
       "      <td>49475.000000</td>\n",
       "      <td>1.0</td>\n",
       "      <td>169.138608</td>\n",
       "      <td>0</td>\n",
       "      <td>4648</td>\n",
       "      <td>3427</td>\n",
       "      <td>1.0</td>\n",
       "      <td>28.588415</td>\n",
       "      <td>1489</td>\n",
       "      <td>154639</td>\n",
       "      <td>1224</td>\n",
       "    </tr>\n",
       "    <tr>\n",
       "      <th>6455</th>\n",
       "      <td>1.0</td>\n",
       "      <td>450.000000</td>\n",
       "      <td>1955.0</td>\n",
       "      <td>59530.000000</td>\n",
       "      <td>3.0</td>\n",
       "      <td>712.754070</td>\n",
       "      <td>0</td>\n",
       "      <td>5065</td>\n",
       "      <td>3357</td>\n",
       "      <td>1.0</td>\n",
       "      <td>14.894252</td>\n",
       "      <td>2463</td>\n",
       "      <td>90781</td>\n",
       "      <td>3591</td>\n",
       "    </tr>\n",
       "    <tr>\n",
       "      <th>7808</th>\n",
       "      <td>2.0</td>\n",
       "      <td>421.000000</td>\n",
       "      <td>2086.0</td>\n",
       "      <td>56857.586402</td>\n",
       "      <td>4.0</td>\n",
       "      <td>223.408411</td>\n",
       "      <td>0</td>\n",
       "      <td>11168</td>\n",
       "      <td>12075</td>\n",
       "      <td>1.0</td>\n",
       "      <td>13.830257</td>\n",
       "      <td>9828</td>\n",
       "      <td>49626</td>\n",
       "      <td>6695</td>\n",
       "    </tr>\n",
       "    <tr>\n",
       "      <th>2350</th>\n",
       "      <td>1.0</td>\n",
       "      <td>540.000000</td>\n",
       "      <td>3150.0</td>\n",
       "      <td>69345.000000</td>\n",
       "      <td>2.0</td>\n",
       "      <td>6580.938773</td>\n",
       "      <td>0</td>\n",
       "      <td>467</td>\n",
       "      <td>1226</td>\n",
       "      <td>1.0</td>\n",
       "      <td>1277.451447</td>\n",
       "      <td>1068</td>\n",
       "      <td>3137</td>\n",
       "      <td>568</td>\n",
       "    </tr>\n",
       "    <tr>\n",
       "      <th>4834</th>\n",
       "      <td>1.0</td>\n",
       "      <td>388.169990</td>\n",
       "      <td>2037.0</td>\n",
       "      <td>62427.000000</td>\n",
       "      <td>3.0</td>\n",
       "      <td>6.523797</td>\n",
       "      <td>0</td>\n",
       "      <td>10827</td>\n",
       "      <td>34082</td>\n",
       "      <td>2.0</td>\n",
       "      <td>0.040753</td>\n",
       "      <td>11127</td>\n",
       "      <td>89797</td>\n",
       "      <td>34255</td>\n",
       "    </tr>\n",
       "  </tbody>\n",
       "</table>\n",
       "<p>8974 rows × 14 columns</p>\n",
       "</div>"
      ],
      "text/plain": [
       "      bath        rent    bond        income  bed  population_density  \\\n",
       "6264   1.0  391.000000  1907.0  57800.000000  3.0          812.763501   \n",
       "3780   1.0  450.000000  1955.0  65075.000000  2.0         3855.685494   \n",
       "5998   1.0  370.000000  1912.0  52497.443655  2.0          185.094974   \n",
       "8068   2.0  403.333333  2390.0  62139.000000  4.0          212.902171   \n",
       "8680   2.0  377.666667  1907.0  58052.315190  4.0          205.436282   \n",
       "...    ...         ...     ...           ...  ...                 ...   \n",
       "8500   1.0  320.000000   910.0  49475.000000  1.0          169.138608   \n",
       "6455   1.0  450.000000  1955.0  59530.000000  3.0          712.754070   \n",
       "7808   2.0  421.000000  2086.0  56857.586402  4.0          223.408411   \n",
       "2350   1.0  540.000000  3150.0  69345.000000  2.0         6580.938773   \n",
       "4834   1.0  388.169990  2037.0  62427.000000  3.0            6.523797   \n",
       "\n",
       "      is_furnished  dist_police_station  dist_hospital  parking  \\\n",
       "6264             0                 2500            936      2.0   \n",
       "3780             0                 2366           2843      1.0   \n",
       "5998             0                 1919           2683      1.0   \n",
       "8068             0                 4665           8283      2.0   \n",
       "8680             0                 2690           2511      2.0   \n",
       "...            ...                  ...            ...      ...   \n",
       "8500             0                 4648           3427      1.0   \n",
       "6455             0                 5065           3357      1.0   \n",
       "7808             0                11168          12075      1.0   \n",
       "2350             0                  467           1226      1.0   \n",
       "4834             0                10827          34082      2.0   \n",
       "\n",
       "      crime_density  dist_market  dist_CBD  dist_shopping_center  \n",
       "6264      20.642723         1287    152867                  1165  \n",
       "3780     368.195252         2270     19483                  2349  \n",
       "5998      22.288245          942     37802                  1329  \n",
       "8068       3.832719         5259     33544                  3344  \n",
       "8680       4.189601         2245    114133                  2337  \n",
       "...             ...          ...       ...                   ...  \n",
       "8500      28.588415         1489    154639                  1224  \n",
       "6455      14.894252         2463     90781                  3591  \n",
       "7808      13.830257         9828     49626                  6695  \n",
       "2350    1277.451447         1068      3137                   568  \n",
       "4834       0.040753        11127     89797                 34255  \n",
       "\n",
       "[8974 rows x 14 columns]"
      ]
     },
     "execution_count": 9,
     "metadata": {},
     "output_type": "execute_result"
    }
   ],
   "source": [
    "selected = ['bath',\n",
    "                   'rent',\n",
    "                   'bond',\n",
    "                   'income',\n",
    "                   'bed',\n",
    "                   'population_density',\n",
    "                   'is_furnished',\n",
    "                   'dist_police_station',\n",
    "                   'dist_hospital',\n",
    "                   'parking',\n",
    "                   'crime_density',\n",
    "                   'dist_market',\n",
    "                   'dist_CBD',\n",
    "                   'dist_shopping_center']\n",
    "feature = shuffled_data[selected]\n",
    "feature"
   ]
  },
  {
   "cell_type": "code",
   "execution_count": 10,
   "metadata": {},
   "outputs": [],
   "source": [
    "x, x_test, y,  y_test = train_test_split(feature, price, train_size=0.9, shuffle=False)"
   ]
  },
  {
   "cell_type": "markdown",
   "metadata": {},
   "source": [
    "### 3. Random forest model"
   ]
  },
  {
   "cell_type": "code",
   "execution_count": 11,
   "metadata": {},
   "outputs": [],
   "source": [
    "def percent_diff(predict, true, limit=0.05, output='p'):\n",
    "    \"\"\"This function calulate the how close the result of the prediction is to the true value\n",
    "        based on the percent different of the two\n",
    "\n",
    "    Args:\n",
    "        predict (array): array of the predicted value\n",
    "        true (array): array of the true value to be compared to\n",
    "        percent_output (bool, optional): return the percent different array if True. Defaults to False.\n",
    "        limit (float, optional): If percent_output is False, percent different array is compared to be less \n",
    "                                           than the limit and return the percent of True . Defaults to 0.05.\n",
    "\n",
    "    Returns:\n",
    "        array or float: read Args for more info\n",
    "    \"\"\"    \n",
    "    if len(predict) != len(true):\n",
    "        print('Not same length')\n",
    "        return False\n",
    "    # \n",
    "    predict = np.array(predict)\n",
    "    true = np.array(true)\n",
    "    percent = np.abs(predict -  true) / true\n",
    "    \n",
    "    if output == 'l':\n",
    "        return percent\n",
    "    if output == 'p':\n",
    "        return np.sum(percent < limit) / len(true)\n",
    "    if output == 'a':\n",
    "        return np.average(percent)"
   ]
  },
  {
   "cell_type": "markdown",
   "metadata": {},
   "source": [
    " + Grid search for best hyperparam"
   ]
  },
  {
   "cell_type": "code",
   "execution_count": 12,
   "metadata": {},
   "outputs": [],
   "source": [
    "N_TREE = [10, 100, 200, 300, 400, 500, 600, 700]\n",
    "MAX_DEPTH = [2, 3, 4, 5, 6, 7, 8, 9, 10, 11]"
   ]
  },
  {
   "cell_type": "code",
   "execution_count": 13,
   "metadata": {},
   "outputs": [
    {
     "name": "stdout",
     "output_type": "stream",
     "text": [
      "10 2\n",
      "10 3\n",
      "10 4\n",
      "10 5\n",
      "10 6\n",
      "10 7\n",
      "10 8\n",
      "10 9\n",
      "10 10\n",
      "10 11\n",
      "100 2\n",
      "100 3\n",
      "100 4\n",
      "100 5\n",
      "100 6\n",
      "100 7\n",
      "100 8\n",
      "100 9\n",
      "100 10\n",
      "100 11\n",
      "200 2\n",
      "200 3\n",
      "200 4\n",
      "200 5\n",
      "200 6\n",
      "200 7\n",
      "200 8\n",
      "200 9\n",
      "200 10\n",
      "200 11\n",
      "300 2\n",
      "300 3\n",
      "300 4\n",
      "300 5\n",
      "300 6\n",
      "300 7\n",
      "300 8\n",
      "300 9\n",
      "300 10\n",
      "300 11\n",
      "400 2\n",
      "400 3\n",
      "400 4\n",
      "400 5\n",
      "400 6\n",
      "400 7\n",
      "400 8\n",
      "400 9\n",
      "400 10\n",
      "400 11\n",
      "500 2\n",
      "500 3\n",
      "500 4\n",
      "500 5\n",
      "500 6\n",
      "500 7\n",
      "500 8\n",
      "500 9\n",
      "500 10\n",
      "500 11\n",
      "600 2\n",
      "600 3\n",
      "600 4\n",
      "600 5\n",
      "600 6\n",
      "600 7\n",
      "600 8\n",
      "600 9\n",
      "600 10\n",
      "600 11\n",
      "700 2\n",
      "700 3\n",
      "700 4\n",
      "700 5\n",
      "700 6\n",
      "700 7\n",
      "700 8\n",
      "700 9\n",
      "700 10\n",
      "700 11\n"
     ]
    }
   ],
   "source": [
    "rf_models = {n_tree: [] for n_tree in N_TREE}\n",
    "for n_tree in N_TREE:\n",
    "    for depth in MAX_DEPTH:\n",
    "        print(n_tree, depth)\n",
    "        regr = RandomForestRegressor(n_estimators=n_tree ,max_depth=depth, max_features='log2', random_state=30034, n_jobs=-1)\n",
    "        regr.fit(x, y)\n",
    "        rf_models[n_tree].append(regr)"
   ]
  },
  {
   "cell_type": "code",
   "execution_count": 14,
   "metadata": {},
   "outputs": [],
   "source": [
    "rf_score = {score: {n_tree: [] for n_tree in N_TREE}\n",
    "                 for score in ['mse', 'rs']}\n",
    "for n_tree in N_TREE:\n",
    "    for depth in MAX_DEPTH:\n",
    "        model = rf_models[n_tree][depth - 2]\n",
    "        y_pred = model.predict(x_test)\n",
    "        mse = mean_squared_error(y_test, y_pred)\n",
    "        rs = r2_score(y_test, y_pred)\n",
    "        # these two would be similar\n",
    "        rf_score['mse'][n_tree].append(mse)\n",
    "        rf_score['rs'][n_tree].append(rs)"
   ]
  },
  {
   "cell_type": "code",
   "execution_count": 15,
   "metadata": {},
   "outputs": [
    {
     "data": {
      "text/html": [
       "<div>\n",
       "<style scoped>\n",
       "    .dataframe tbody tr th:only-of-type {\n",
       "        vertical-align: middle;\n",
       "    }\n",
       "\n",
       "    .dataframe tbody tr th {\n",
       "        vertical-align: top;\n",
       "    }\n",
       "\n",
       "    .dataframe thead th {\n",
       "        text-align: right;\n",
       "    }\n",
       "</style>\n",
       "<table border=\"1\" class=\"dataframe\">\n",
       "  <thead>\n",
       "    <tr style=\"text-align: right;\">\n",
       "      <th></th>\n",
       "      <th>10</th>\n",
       "      <th>100</th>\n",
       "      <th>200</th>\n",
       "      <th>300</th>\n",
       "      <th>400</th>\n",
       "      <th>500</th>\n",
       "      <th>600</th>\n",
       "      <th>700</th>\n",
       "    </tr>\n",
       "  </thead>\n",
       "  <tbody>\n",
       "    <tr>\n",
       "      <th>0</th>\n",
       "      <td>32877.057815</td>\n",
       "      <td>30958.366839</td>\n",
       "      <td>31620.255851</td>\n",
       "      <td>31127.496348</td>\n",
       "      <td>31463.939425</td>\n",
       "      <td>31543.512478</td>\n",
       "      <td>31438.350197</td>\n",
       "      <td>31335.996259</td>\n",
       "    </tr>\n",
       "    <tr>\n",
       "      <th>1</th>\n",
       "      <td>25997.247949</td>\n",
       "      <td>23211.522708</td>\n",
       "      <td>23376.579850</td>\n",
       "      <td>22527.666951</td>\n",
       "      <td>22874.488378</td>\n",
       "      <td>23145.910273</td>\n",
       "      <td>22964.536930</td>\n",
       "      <td>22803.984385</td>\n",
       "    </tr>\n",
       "    <tr>\n",
       "      <th>2</th>\n",
       "      <td>17076.889952</td>\n",
       "      <td>17525.520286</td>\n",
       "      <td>17412.530241</td>\n",
       "      <td>17322.186594</td>\n",
       "      <td>17399.160612</td>\n",
       "      <td>17478.057358</td>\n",
       "      <td>17570.192273</td>\n",
       "      <td>17493.561504</td>\n",
       "    </tr>\n",
       "    <tr>\n",
       "      <th>3</th>\n",
       "      <td>14886.649809</td>\n",
       "      <td>14416.499454</td>\n",
       "      <td>14625.592293</td>\n",
       "      <td>14371.245524</td>\n",
       "      <td>14182.582945</td>\n",
       "      <td>14229.049914</td>\n",
       "      <td>14176.698591</td>\n",
       "      <td>14161.020611</td>\n",
       "    </tr>\n",
       "    <tr>\n",
       "      <th>4</th>\n",
       "      <td>13462.844165</td>\n",
       "      <td>12160.685198</td>\n",
       "      <td>12383.241101</td>\n",
       "      <td>12437.546449</td>\n",
       "      <td>12363.014435</td>\n",
       "      <td>12552.355176</td>\n",
       "      <td>12610.966977</td>\n",
       "      <td>12561.087329</td>\n",
       "    </tr>\n",
       "    <tr>\n",
       "      <th>5</th>\n",
       "      <td>12239.990953</td>\n",
       "      <td>11743.404512</td>\n",
       "      <td>11490.850280</td>\n",
       "      <td>11169.704755</td>\n",
       "      <td>11229.636572</td>\n",
       "      <td>11209.543819</td>\n",
       "      <td>11296.734858</td>\n",
       "      <td>11389.467857</td>\n",
       "    </tr>\n",
       "    <tr>\n",
       "      <th>6</th>\n",
       "      <td>13736.934781</td>\n",
       "      <td>11659.742342</td>\n",
       "      <td>10587.724426</td>\n",
       "      <td>10612.866188</td>\n",
       "      <td>10386.648178</td>\n",
       "      <td>10330.047489</td>\n",
       "      <td>10306.947141</td>\n",
       "      <td>10274.745708</td>\n",
       "    </tr>\n",
       "    <tr>\n",
       "      <th>7</th>\n",
       "      <td>15140.237386</td>\n",
       "      <td>9111.351656</td>\n",
       "      <td>9250.372118</td>\n",
       "      <td>9491.768627</td>\n",
       "      <td>9468.846992</td>\n",
       "      <td>9527.673762</td>\n",
       "      <td>9539.040389</td>\n",
       "      <td>9501.795009</td>\n",
       "    </tr>\n",
       "    <tr>\n",
       "      <th>8</th>\n",
       "      <td>12411.405627</td>\n",
       "      <td>9687.682117</td>\n",
       "      <td>9523.068150</td>\n",
       "      <td>9265.243054</td>\n",
       "      <td>9318.853096</td>\n",
       "      <td>9275.690627</td>\n",
       "      <td>9213.246375</td>\n",
       "      <td>9161.304016</td>\n",
       "    </tr>\n",
       "    <tr>\n",
       "      <th>9</th>\n",
       "      <td>13517.010157</td>\n",
       "      <td>9341.493482</td>\n",
       "      <td>8950.442799</td>\n",
       "      <td>9092.021400</td>\n",
       "      <td>8996.407621</td>\n",
       "      <td>9011.931927</td>\n",
       "      <td>9039.110673</td>\n",
       "      <td>9066.989608</td>\n",
       "    </tr>\n",
       "  </tbody>\n",
       "</table>\n",
       "</div>"
      ],
      "text/plain": [
       "            10            100           200           300           400  \\\n",
       "0  32877.057815  30958.366839  31620.255851  31127.496348  31463.939425   \n",
       "1  25997.247949  23211.522708  23376.579850  22527.666951  22874.488378   \n",
       "2  17076.889952  17525.520286  17412.530241  17322.186594  17399.160612   \n",
       "3  14886.649809  14416.499454  14625.592293  14371.245524  14182.582945   \n",
       "4  13462.844165  12160.685198  12383.241101  12437.546449  12363.014435   \n",
       "5  12239.990953  11743.404512  11490.850280  11169.704755  11229.636572   \n",
       "6  13736.934781  11659.742342  10587.724426  10612.866188  10386.648178   \n",
       "7  15140.237386   9111.351656   9250.372118   9491.768627   9468.846992   \n",
       "8  12411.405627   9687.682117   9523.068150   9265.243054   9318.853096   \n",
       "9  13517.010157   9341.493482   8950.442799   9092.021400   8996.407621   \n",
       "\n",
       "            500           600           700  \n",
       "0  31543.512478  31438.350197  31335.996259  \n",
       "1  23145.910273  22964.536930  22803.984385  \n",
       "2  17478.057358  17570.192273  17493.561504  \n",
       "3  14229.049914  14176.698591  14161.020611  \n",
       "4  12552.355176  12610.966977  12561.087329  \n",
       "5  11209.543819  11296.734858  11389.467857  \n",
       "6  10330.047489  10306.947141  10274.745708  \n",
       "7   9527.673762   9539.040389   9501.795009  \n",
       "8   9275.690627   9213.246375   9161.304016  \n",
       "9   9011.931927   9039.110673   9066.989608  "
      ]
     },
     "execution_count": 15,
     "metadata": {},
     "output_type": "execute_result"
    },
    {
     "data": {
      "image/png": "[encoded data removed]",
      "text/plain": [
       "<Figure size 640x480 with 2 Axes>"
      ]
     },
     "metadata": {},
     "output_type": "display_data"
    }
   ],
   "source": [
    "result = pd.DataFrame(rf_score['mse'])\n",
    "sns.heatmap(result)\n",
    "result"
   ]
  },
  {
   "cell_type": "code",
   "execution_count": 16,
   "metadata": {},
   "outputs": [
    {
     "data": {
      "text/html": [
       "<div>\n",
       "<style scoped>\n",
       "    .dataframe tbody tr th:only-of-type {\n",
       "        vertical-align: middle;\n",
       "    }\n",
       "\n",
       "    .dataframe tbody tr th {\n",
       "        vertical-align: top;\n",
       "    }\n",
       "\n",
       "    .dataframe thead th {\n",
       "        text-align: right;\n",
       "    }\n",
       "</style>\n",
       "<table border=\"1\" class=\"dataframe\">\n",
       "  <thead>\n",
       "    <tr style=\"text-align: right;\">\n",
       "      <th></th>\n",
       "      <th>10</th>\n",
       "      <th>100</th>\n",
       "      <th>200</th>\n",
       "      <th>300</th>\n",
       "      <th>400</th>\n",
       "      <th>500</th>\n",
       "      <th>600</th>\n",
       "      <th>700</th>\n",
       "    </tr>\n",
       "  </thead>\n",
       "  <tbody>\n",
       "    <tr>\n",
       "      <th>0</th>\n",
       "      <td>0.523111</td>\n",
       "      <td>0.550942</td>\n",
       "      <td>0.541342</td>\n",
       "      <td>0.548489</td>\n",
       "      <td>0.543609</td>\n",
       "      <td>0.542455</td>\n",
       "      <td>0.543980</td>\n",
       "      <td>0.545465</td>\n",
       "    </tr>\n",
       "    <tr>\n",
       "      <th>1</th>\n",
       "      <td>0.622904</td>\n",
       "      <td>0.663312</td>\n",
       "      <td>0.660918</td>\n",
       "      <td>0.673231</td>\n",
       "      <td>0.668201</td>\n",
       "      <td>0.664264</td>\n",
       "      <td>0.666895</td>\n",
       "      <td>0.669223</td>\n",
       "    </tr>\n",
       "    <tr>\n",
       "      <th>2</th>\n",
       "      <td>0.752296</td>\n",
       "      <td>0.745789</td>\n",
       "      <td>0.747428</td>\n",
       "      <td>0.748738</td>\n",
       "      <td>0.747622</td>\n",
       "      <td>0.746477</td>\n",
       "      <td>0.745141</td>\n",
       "      <td>0.746252</td>\n",
       "    </tr>\n",
       "    <tr>\n",
       "      <th>3</th>\n",
       "      <td>0.784066</td>\n",
       "      <td>0.790886</td>\n",
       "      <td>0.787853</td>\n",
       "      <td>0.791542</td>\n",
       "      <td>0.794279</td>\n",
       "      <td>0.793605</td>\n",
       "      <td>0.794364</td>\n",
       "      <td>0.794591</td>\n",
       "    </tr>\n",
       "    <tr>\n",
       "      <th>4</th>\n",
       "      <td>0.804719</td>\n",
       "      <td>0.823607</td>\n",
       "      <td>0.820379</td>\n",
       "      <td>0.819591</td>\n",
       "      <td>0.820672</td>\n",
       "      <td>0.817925</td>\n",
       "      <td>0.817075</td>\n",
       "      <td>0.817799</td>\n",
       "    </tr>\n",
       "    <tr>\n",
       "      <th>5</th>\n",
       "      <td>0.822456</td>\n",
       "      <td>0.829659</td>\n",
       "      <td>0.833323</td>\n",
       "      <td>0.837981</td>\n",
       "      <td>0.837112</td>\n",
       "      <td>0.837403</td>\n",
       "      <td>0.836139</td>\n",
       "      <td>0.834793</td>\n",
       "    </tr>\n",
       "    <tr>\n",
       "      <th>6</th>\n",
       "      <td>0.800743</td>\n",
       "      <td>0.830873</td>\n",
       "      <td>0.846423</td>\n",
       "      <td>0.846058</td>\n",
       "      <td>0.849339</td>\n",
       "      <td>0.850161</td>\n",
       "      <td>0.850496</td>\n",
       "      <td>0.850963</td>\n",
       "    </tr>\n",
       "    <tr>\n",
       "      <th>7</th>\n",
       "      <td>0.780388</td>\n",
       "      <td>0.867838</td>\n",
       "      <td>0.865821</td>\n",
       "      <td>0.862320</td>\n",
       "      <td>0.862652</td>\n",
       "      <td>0.861799</td>\n",
       "      <td>0.861634</td>\n",
       "      <td>0.862174</td>\n",
       "    </tr>\n",
       "    <tr>\n",
       "      <th>8</th>\n",
       "      <td>0.819970</td>\n",
       "      <td>0.859478</td>\n",
       "      <td>0.861866</td>\n",
       "      <td>0.865606</td>\n",
       "      <td>0.864828</td>\n",
       "      <td>0.865454</td>\n",
       "      <td>0.866360</td>\n",
       "      <td>0.867113</td>\n",
       "    </tr>\n",
       "    <tr>\n",
       "      <th>9</th>\n",
       "      <td>0.803933</td>\n",
       "      <td>0.864500</td>\n",
       "      <td>0.870172</td>\n",
       "      <td>0.868118</td>\n",
       "      <td>0.869505</td>\n",
       "      <td>0.869280</td>\n",
       "      <td>0.868886</td>\n",
       "      <td>0.868481</td>\n",
       "    </tr>\n",
       "  </tbody>\n",
       "</table>\n",
       "</div>"
      ],
      "text/plain": [
       "        10        100       200       300       400       500       600  \\\n",
       "0  0.523111  0.550942  0.541342  0.548489  0.543609  0.542455  0.543980   \n",
       "1  0.622904  0.663312  0.660918  0.673231  0.668201  0.664264  0.666895   \n",
       "2  0.752296  0.745789  0.747428  0.748738  0.747622  0.746477  0.745141   \n",
       "3  0.784066  0.790886  0.787853  0.791542  0.794279  0.793605  0.794364   \n",
       "4  0.804719  0.823607  0.820379  0.819591  0.820672  0.817925  0.817075   \n",
       "5  0.822456  0.829659  0.833323  0.837981  0.837112  0.837403  0.836139   \n",
       "6  0.800743  0.830873  0.846423  0.846058  0.849339  0.850161  0.850496   \n",
       "7  0.780388  0.867838  0.865821  0.862320  0.862652  0.861799  0.861634   \n",
       "8  0.819970  0.859478  0.861866  0.865606  0.864828  0.865454  0.866360   \n",
       "9  0.803933  0.864500  0.870172  0.868118  0.869505  0.869280  0.868886   \n",
       "\n",
       "        700  \n",
       "0  0.545465  \n",
       "1  0.669223  \n",
       "2  0.746252  \n",
       "3  0.794591  \n",
       "4  0.817799  \n",
       "5  0.834793  \n",
       "6  0.850963  \n",
       "7  0.862174  \n",
       "8  0.867113  \n",
       "9  0.868481  "
      ]
     },
     "execution_count": 16,
     "metadata": {},
     "output_type": "execute_result"
    },
    {
     "data": {
      "image/png": "[encoded data removed]",
      "text/plain": [
       "<Figure size 640x480 with 2 Axes>"
      ]
     },
     "metadata": {},
     "output_type": "display_data"
    }
   ],
   "source": [
    "result = pd.DataFrame(rf_score['rs'])\n",
    "sns.heatmap(result)\n",
    "result"
   ]
  },
  {
   "cell_type": "code",
   "execution_count": 17,
   "metadata": {},
   "outputs": [
    {
     "data": {
      "text/html": [
       "<style>#sk-container-id-1 {color: black;}#sk-container-id-1 pre{padding: 0;}#sk-container-id-1 div.sk-toggleable {background-color: white;}#sk-container-id-1 label.sk-toggleable__label {cursor: pointer;display: block;width: 100%;margin-bottom: 0;padding: 0.3em;box-sizing: border-box;text-align: center;}#sk-container-id-1 label.sk-toggleable__label-arrow:before {content: \"▸\";float: left;margin-right: 0.25em;color: #696969;}#sk-container-id-1 label.sk-toggleable__label-arrow:hover:before {color: black;}#sk-container-id-1 div.sk-estimator:hover label.sk-toggleable__label-arrow:before {color: black;}#sk-container-id-1 div.sk-toggleable__content {max-height: 0;max-width: 0;overflow: hidden;text-align: left;background-color: #f0f8ff;}#sk-container-id-1 div.sk-toggleable__content pre {margin: 0.2em;color: black;border-radius: 0.25em;background-color: #f0f8ff;}#sk-container-id-1 input.sk-toggleable__control:checked~div.sk-toggleable__content {max-height: 200px;max-width: 100%;overflow: auto;}#sk-container-id-1 input.sk-toggleable__control:checked~label.sk-toggleable__label-arrow:before {content: \"▾\";}#sk-container-id-1 div.sk-estimator input.sk-toggleable__control:checked~label.sk-toggleable__label {background-color: #d4ebff;}#sk-container-id-1 div.sk-label input.sk-toggleable__control:checked~label.sk-toggleable__label {background-color: #d4ebff;}#sk-container-id-1 input.sk-hidden--visually {border: 0;clip: rect(1px 1px 1px 1px);clip: rect(1px, 1px, 1px, 1px);height: 1px;margin: -1px;overflow: hidden;padding: 0;position: absolute;width: 1px;}#sk-container-id-1 div.sk-estimator {font-family: monospace;background-color: #f0f8ff;border: 1px dotted black;border-radius: 0.25em;box-sizing: border-box;margin-bottom: 0.5em;}#sk-container-id-1 div.sk-estimator:hover {background-color: #d4ebff;}#sk-container-id-1 div.sk-parallel-item::after {content: \"\";width: 100%;border-bottom: 1px solid gray;flex-grow: 1;}#sk-container-id-1 div.sk-label:hover label.sk-toggleable__label {background-color: #d4ebff;}#sk-container-id-1 div.sk-serial::before {content: \"\";position: absolute;border-left: 1px solid gray;box-sizing: border-box;top: 0;bottom: 0;left: 50%;z-index: 0;}#sk-container-id-1 div.sk-serial {display: flex;flex-direction: column;align-items: center;background-color: white;padding-right: 0.2em;padding-left: 0.2em;position: relative;}#sk-container-id-1 div.sk-item {position: relative;z-index: 1;}#sk-container-id-1 div.sk-parallel {display: flex;align-items: stretch;justify-content: center;background-color: white;position: relative;}#sk-container-id-1 div.sk-item::before, #sk-container-id-1 div.sk-parallel-item::before {content: \"\";position: absolute;border-left: 1px solid gray;box-sizing: border-box;top: 0;bottom: 0;left: 50%;z-index: -1;}#sk-container-id-1 div.sk-parallel-item {display: flex;flex-direction: column;z-index: 1;position: relative;background-color: white;}#sk-container-id-1 div.sk-parallel-item:first-child::after {align-self: flex-end;width: 50%;}#sk-container-id-1 div.sk-parallel-item:last-child::after {align-self: flex-start;width: 50%;}#sk-container-id-1 div.sk-parallel-item:only-child::after {width: 0;}#sk-container-id-1 div.sk-dashed-wrapped {border: 1px dashed gray;margin: 0 0.4em 0.5em 0.4em;box-sizing: border-box;padding-bottom: 0.4em;background-color: white;}#sk-container-id-1 div.sk-label label {font-family: monospace;font-weight: bold;display: inline-block;line-height: 1.2em;}#sk-container-id-1 div.sk-label-container {text-align: center;}#sk-container-id-1 div.sk-container {/* jupyter's `normalize.less` sets `[hidden] { display: none; }` but bootstrap.min.css set `[hidden] { display: none !important; }` so we also need the `!important` here to be able to override the default hidden behavior on the sphinx rendered scikit-learn.org. See: https://github.com/scikit-learn/scikit-learn/issues/21755 */display: inline-block !important;position: relative;}#sk-container-id-1 div.sk-text-repr-fallback {display: none;}</style><div id=\"sk-container-id-1\" class=\"sk-top-container\"><div class=\"sk-text-repr-fallback\"><pre>RandomForestRegressor(max_depth=11, max_features=&#x27;log2&#x27;, n_estimators=200,\n",
       "                      n_jobs=-1, random_state=1234)</pre><b>In a Jupyter environment, please rerun this cell to show the HTML representation or trust the notebook. <br />On GitHub, the HTML representation is unable to render, please try loading this page with nbviewer.org.</b></div><div class=\"sk-container\" hidden><div class=\"sk-item\"><div class=\"sk-estimator sk-toggleable\"><input class=\"sk-toggleable__control sk-hidden--visually\" id=\"sk-estimator-id-1\" type=\"checkbox\" checked><label for=\"sk-estimator-id-1\" class=\"sk-toggleable__label sk-toggleable__label-arrow\">RandomForestRegressor</label><div class=\"sk-toggleable__content\"><pre>RandomForestRegressor(max_depth=11, max_features=&#x27;log2&#x27;, n_estimators=200,\n",
       "                      n_jobs=-1, random_state=1234)</pre></div></div></div></div></div>"
      ],
      "text/plain": [
       "RandomForestRegressor(max_depth=11, max_features='log2', n_estimators=200,\n",
       "                      n_jobs=-1, random_state=1234)"
      ]
     },
     "execution_count": 17,
     "metadata": {},
     "output_type": "execute_result"
    }
   ],
   "source": [
    "# best at n_estimators=200, max_depth=11\n",
    "RFG = RandomForestRegressor(n_estimators=200, max_depth=11, max_features='log2', random_state=1234, n_jobs=-1)\n",
    "RFG.fit(x, y)"
   ]
  },
  {
   "cell_type": "markdown",
   "metadata": {},
   "source": [
    "+ Comparing with baseline model"
   ]
  },
  {
   "cell_type": "code",
   "execution_count": 18,
   "metadata": {},
   "outputs": [
    {
     "data": {
      "text/plain": [
       "(0.07287591148603619, 0.40669538816316375)"
      ]
     },
     "execution_count": 18,
     "metadata": {},
     "output_type": "execute_result"
    }
   ],
   "source": [
    "y_pred = RFG.predict(x_test)\n",
    "percent_diff(y_pred, y_test, limit=0.1, output='a'), percent_diff(merged['price'], merged['rent'], output='a')"
   ]
  },
  {
   "cell_type": "code",
   "execution_count": 19,
   "metadata": {},
   "outputs": [
    {
     "data": {
      "text/plain": [
       "(8652.796973086042, 114734.01614190885)"
      ]
     },
     "execution_count": 19,
     "metadata": {},
     "output_type": "execute_result"
    }
   ],
   "source": [
    "mean_squared_error(y_pred, y_test), mean_squared_error(merged['price'], merged['rent'])"
   ]
  },
  {
   "cell_type": "markdown",
   "metadata": {},
   "source": [
    "We can see that the model is about 5 times better with these metric"
   ]
  },
  {
   "cell_type": "markdown",
   "metadata": {},
   "source": [
    " + Feature importance"
   ]
  },
  {
   "cell_type": "code",
   "execution_count": 20,
   "metadata": {},
   "outputs": [
    {
     "data": {
      "text/html": [
       "<div>\n",
       "<style scoped>\n",
       "    .dataframe tbody tr th:only-of-type {\n",
       "        vertical-align: middle;\n",
       "    }\n",
       "\n",
       "    .dataframe tbody tr th {\n",
       "        vertical-align: top;\n",
       "    }\n",
       "\n",
       "    .dataframe thead th {\n",
       "        text-align: right;\n",
       "    }\n",
       "</style>\n",
       "<table border=\"1\" class=\"dataframe\">\n",
       "  <thead>\n",
       "    <tr style=\"text-align: right;\">\n",
       "      <th></th>\n",
       "      <th>feature_name</th>\n",
       "      <th>importance</th>\n",
       "    </tr>\n",
       "  </thead>\n",
       "  <tbody>\n",
       "    <tr>\n",
       "      <th>2</th>\n",
       "      <td>bond</td>\n",
       "      <td>0.470976</td>\n",
       "    </tr>\n",
       "    <tr>\n",
       "      <th>0</th>\n",
       "      <td>bath</td>\n",
       "      <td>0.105037</td>\n",
       "    </tr>\n",
       "    <tr>\n",
       "      <th>12</th>\n",
       "      <td>dist_CBD</td>\n",
       "      <td>0.063852</td>\n",
       "    </tr>\n",
       "    <tr>\n",
       "      <th>4</th>\n",
       "      <td>bed</td>\n",
       "      <td>0.061911</td>\n",
       "    </tr>\n",
       "    <tr>\n",
       "      <th>1</th>\n",
       "      <td>rent</td>\n",
       "      <td>0.061002</td>\n",
       "    </tr>\n",
       "    <tr>\n",
       "      <th>5</th>\n",
       "      <td>population_density</td>\n",
       "      <td>0.03614</td>\n",
       "    </tr>\n",
       "    <tr>\n",
       "      <th>8</th>\n",
       "      <td>dist_hospital</td>\n",
       "      <td>0.032015</td>\n",
       "    </tr>\n",
       "    <tr>\n",
       "      <th>3</th>\n",
       "      <td>income</td>\n",
       "      <td>0.031017</td>\n",
       "    </tr>\n",
       "    <tr>\n",
       "      <th>9</th>\n",
       "      <td>parking</td>\n",
       "      <td>0.029738</td>\n",
       "    </tr>\n",
       "    <tr>\n",
       "      <th>13</th>\n",
       "      <td>dist_shopping_center</td>\n",
       "      <td>0.027693</td>\n",
       "    </tr>\n",
       "    <tr>\n",
       "      <th>10</th>\n",
       "      <td>crime_density</td>\n",
       "      <td>0.024949</td>\n",
       "    </tr>\n",
       "    <tr>\n",
       "      <th>7</th>\n",
       "      <td>dist_police_station</td>\n",
       "      <td>0.02361</td>\n",
       "    </tr>\n",
       "    <tr>\n",
       "      <th>11</th>\n",
       "      <td>dist_market</td>\n",
       "      <td>0.02219</td>\n",
       "    </tr>\n",
       "    <tr>\n",
       "      <th>6</th>\n",
       "      <td>is_furnished</td>\n",
       "      <td>0.00987</td>\n",
       "    </tr>\n",
       "  </tbody>\n",
       "</table>\n",
       "</div>"
      ],
      "text/plain": [
       "            feature_name importance\n",
       "2                   bond   0.470976\n",
       "0                   bath   0.105037\n",
       "12              dist_CBD   0.063852\n",
       "4                    bed   0.061911\n",
       "1                   rent   0.061002\n",
       "5     population_density    0.03614\n",
       "8          dist_hospital   0.032015\n",
       "3                 income   0.031017\n",
       "9                parking   0.029738\n",
       "13  dist_shopping_center   0.027693\n",
       "10         crime_density   0.024949\n",
       "7    dist_police_station    0.02361\n",
       "11           dist_market    0.02219\n",
       "6           is_furnished    0.00987"
      ]
     },
     "execution_count": 20,
     "metadata": {},
     "output_type": "execute_result"
    }
   ],
   "source": [
    "rf_feature_importance = pd.DataFrame([selected, RFG.feature_importances_], index=['feature_name', 'importance']).T\n",
    "rf_feature_importance.sort_values(by='importance', ascending=False)"
   ]
  },
  {
   "cell_type": "markdown",
   "metadata": {},
   "source": [
    "### 4. Extra analysis"
   ]
  },
  {
   "cell_type": "markdown",
   "metadata": {},
   "source": [
    "This plot shows at which price range the model is best at"
   ]
  },
  {
   "cell_type": "code",
   "execution_count": 27,
   "metadata": {},
   "outputs": [
    {
     "data": {
      "text/plain": [
       "(100.0, 2000.0)"
      ]
     },
     "execution_count": 27,
     "metadata": {},
     "output_type": "execute_result"
    },
    {
     "data": {
      "image/png": "[encoded data removed]",
      "text/plain": [
       "<Figure size 640x480 with 1 Axes>"
      ]
     },
     "metadata": {},
     "output_type": "display_data"
    }
   ],
   "source": [
    "pcf = percent_diff(y_pred, y_test, limit=0.1, output='l')\n",
    "\n",
    "plt.scatter(y_test, pcf)\n",
    "plt.xlim(100, 2000)"
   ]
  },
  {
   "cell_type": "markdown",
   "metadata": {},
   "source": [
    "This plot shows the predicted vs actual value"
   ]
  },
  {
   "cell_type": "code",
   "execution_count": 22,
   "metadata": {},
   "outputs": [
    {
     "data": {
      "text/plain": [
       "<matplotlib.collections.PathCollection at 0x7fb1d67df790>"
      ]
     },
     "execution_count": 22,
     "metadata": {},
     "output_type": "execute_result"
    },
    {
     "data": {
      "image/png": "[encoded data removed]",
      "text/plain": [
       "<Figure size 640x480 with 1 Axes>"
      ]
     },
     "metadata": {},
     "output_type": "display_data"
    }
   ],
   "source": [
    "plt.scatter(y_pred, y_test)"
   ]
  },
  {
   "cell_type": "code",
   "execution_count": 23,
   "metadata": {},
   "outputs": [],
   "source": [
    "merged['total_room'] = merged['bed'] + merged['bath']"
   ]
  },
  {
   "cell_type": "markdown",
   "metadata": {},
   "source": [
    "Check distribution of price between furnished and unfurnished property"
   ]
  },
  {
   "cell_type": "code",
   "execution_count": 25,
   "metadata": {},
   "outputs": [
    {
     "data": {
      "text/plain": [
       "79.72508156967558"
      ]
     },
     "execution_count": 25,
     "metadata": {},
     "output_type": "execute_result"
    },
    {
     "data": {
      "image/png": "[encoded data removed]",
      "text/plain": [
       "<Figure size 640x480 with 1 Axes>"
      ]
     },
     "metadata": {},
     "output_type": "display_data"
    }
   ],
   "source": [
    "plt.hist(merged[merged['is_furnished'] == 0]['price'], bins=100)\n",
    "plt.hist(merged[merged['is_furnished'] == 1]['price'], bins=100)\n",
    "# average price differences\n",
    "merged[merged['is_furnished'] == 1]['price'].mean() - merged[merged['is_furnished'] == 0]['price'].mean()"
   ]
  },
  {
   "cell_type": "markdown",
   "metadata": {},
   "source": [
    "This plot shows the distribution of property price for the number of bedroom"
   ]
  },
  {
   "cell_type": "code",
   "execution_count": 26,
   "metadata": {},
   "outputs": [
    {
     "data": {
      "text/plain": [
       "Text(0.5, 1.0015, 'Average weekly rent vs number of bed room')"
      ]
     },
     "execution_count": 26,
     "metadata": {},
     "output_type": "execute_result"
    },
    {
     "data": {
      "image/png": "[encoded data removed]",
      "text/plain": [
       "<Figure size 640x480 with 1 Axes>"
      ]
     },
     "metadata": {},
     "output_type": "display_data"
    }
   ],
   "source": [
    "p = []\n",
    "for i in range(1, 12):\n",
    "    p.append(merged[merged['total_room'] == i]['price'].mean())\n",
    "plt.bar(range(1, 12), p)\n",
    "plt.title('Average weekly rent vs number of bed room', fontsize=15, y=1.0015)"
   ]
  },
  {
   "cell_type": "code",
   "execution_count": null,
   "metadata": {},
   "outputs": [],
   "source": []
  },
  {
   "cell_type": "code",
   "execution_count": null,
   "metadata": {},
   "outputs": [],
   "source": []
  }
 ],
 "metadata": {
  "kernelspec": {
   "display_name": "Python 3",
   "language": "python",
   "name": "python3"
  },
  "language_info": {
   "codemirror_mode": {
    "name": "ipython",
    "version": 3
   },
   "file_extension": ".py",
   "mimetype": "text/x-python",
   "name": "python",
   "nbconvert_exporter": "python",
   "pygments_lexer": "ipython3",
   "version": "3.9.13"
  },
  "orig_nbformat": 4
 },
 "nbformat": 4,
 "nbformat_minor": 2
}
