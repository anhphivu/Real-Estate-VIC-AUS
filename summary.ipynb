{
 "cells": [
  {
   "cell_type": "markdown",
   "metadata": {},
   "source": [
    "This notebook summarise the approach, assumption, limitation, and the result of our project"
   ]
  },
  {
   "cell_type": "markdown",
   "metadata": {},
   "source": [
    "## 1. Result Summary"
   ]
  },
  {
   "cell_type": "markdown",
   "metadata": {},
   "source": [
    "#### Objective 1: **Identify key internal and external features that influence rental price**\n",
    "+ Best Internal features (most to least important): number of bath, number of bed, whether the property is furnished, number of parking\n",
    "+ Best External feature (most to least important): distance to CBD, region average rental price, region population density, distance to nearest hospital, region average income \n",
    "\n",
    "<br>\n",
    "\n",
    "#### Objective 2: **Identify the top 10 regions with the highest predicted growth rates**\n",
    "Top 10 Region with highest growth with growth rate (Highest to lowest): Port Melbourne, South Yarra – South, Melbourne CBD – East, Fitzroy, Melbourne ,, BD - West, Southbank – East, Collingwood, South Yarra – West, South Melbourne, Southbank (West) – South Wharf\n",
    "\n",
    "\n",
    "<div style='text-align: center;'>\n",
    "  <img src=\"markdown-img/top_10_growth.png\">\n",
    "</div>\n",
    "\n",
    "<br>\n",
    "\n",
    "#### Objective 3: **Determine the most liveable and affordable region**\n",
    "+ Top 3 most affortable regions: Alphington – Fairfield, Prahan – Windsor, Seddon - Kingsville\n",
    "<div style='text-align: center;'>\n",
    "  <img src=\"markdown-img/top_3_affordability.png\">\n",
    "</div>\n",
    "\n",
    "+ Top 3 most livable regions: Melbourne CBD – North, Melbourne CBD – West, Melbourne CBD – East \n",
    "<div style='text-align: center;'>\n",
    "  <img src=\"markdown-img/top_3_livability.png\">\n",
    "</div>\n",
    "\n",
    "\n",
    "\n",
    "<br>\n",
    "\n",
    "#### Recommendation:\n",
    "+ Investor should look into: Buloke, Gannawarra, Ballarat as these 3 region are predicted to have high **rent growth**\n",
    "+ Leaser should split their larger properties into multiple smaller ones for more profit\n",
    "+ Leaser should furnish their property to earn on average $79 more per week. We estimated that leasers will break even in 6-8 months after purchasing the furniture\n",
    "\n",
    "***"
   ]
  },
  {
   "cell_type": "markdown",
   "metadata": {},
   "source": [
    "## 2. Assumptions"
   ]
  },
  {
   "cell_type": "markdown",
   "metadata": {},
   "source": [
    "+ Distribution of data within a region was assumed to be uniform. For example the center of Edenhope has the same rent as the outer edge of Edenhope\n",
    "+ Growth rates of all SA2 district were assumed to be linear\n",
    "+ Our models are based on riskfree rental prices. \n",
    "For example, the insight about furnishing a property give leaser $79 more per week doesn't take into account a tenant potentially damaging furniture and the cost to replace it  \n",
    "\n",
    "***"
   ]
  },
  {
   "cell_type": "markdown",
   "metadata": {},
   "source": [
    "## 3. Approach\n"
   ]
  },
  {
   "cell_type": "markdown",
   "metadata": {},
   "source": [
    "\n",
    "### 3.1.Dataset"
   ]
  },
  {
   "cell_type": "markdown",
   "metadata": {},
   "source": [
    "***\n",
    "#### 3.1.1.  Scrape property data from [domain.com](domain.com) using `scripts/domain_rent_scrape.py`\n",
    "\n",
    "We chose to scrape our property data from `Domain.com`. Using a random agent from the fake-useragent package and some random delay between each attempt, we successfully scraped 9638 properties with only 10 failed properties. For each property, we scraped:\n",
    "+ address line1\n",
    "+ address line2\n",
    "+ suburb\n",
    "+ state\n",
    "+ postcode\n",
    "+ price\n",
    "+ area\n",
    "+ type\n",
    "+ description\n",
    "+ latitude\n",
    "+ longitude\n",
    "+ bed\n",
    "+ bath\n",
    "+ parking\n",
    "+ bond\n",
    "\n",
    "The result is save in `data/landing/domain_properties.json`\n",
    "***\n"
   ]
  },
  {
   "cell_type": "markdown",
   "metadata": {},
   "source": [
    "#### 3.1.2. External datasets: downloaded using `scripts/external_datasets.py`\n",
    "\n",
    "Datasets from [abs.gov.au](abs.gov.au):\n",
    "+ Population by SA2 district: `data/landing/SA2_Population.xlsx`\n",
    "+ Income by SA2 district: `data/landing/SA2_Income.xlsx`\n",
    "+ SA2 district shapefile: `data/landing/SA2_Borders.zip`, extracted in the same folder\n",
    "\n",
    "School location data from [education.vic.gov.au](education.vic.gov.au)\n",
    "+ School location: `data/landing/School_Locations.csv`\n",
    "\n",
    "Past rental price data from [dffh.vic.gov.au](dffh.vic.gov.au)\n",
    "+ Rent average: `data/landing/moving_annual_rent.xlsx`\n",
    "\n",
    "Crime data from [crimestatistics.vic.gov.au](crimestatistics.vic.gov.au)\n",
    "+ Crime history by region: `data/landing/crime_stat_March_2023.xlsx`\n",
    "***\n"
   ]
  },
  {
   "cell_type": "markdown",
   "metadata": {},
   "source": [
    "#### 3.1.3. Spatial data: retrieved using [Google Map API](https://mapsplatform.google.com/maps-products/)\n",
    "\n",
    "**Place of interest**: \n",
    "\n",
    "This is done in `notebooks/spatial-data/infrastructure.ipynb`\n",
    "Google services provides a $200/month/account of free credit, which we utilised. Google map text search API provides places that match the text description based toward a given location. However, each call only provide up to 20 places in that location. We decide to splited VIC into smaller grid of 10 km x 10 km (approximately a square) and search for placed within a radius of 7071 meters of the square center. This approach still occationally omitted some places but it was a lot better.\n",
    "\n",
    "<img src=\"markdown-img/VIC_splited_grid.png\" alt=\"Map showing VIC grid\" width=\"692\" height=\"422\">\n",
    "\n",
    "Places retrieved for each square:\n",
    "+ Train station: 1983\n",
    "+ Tram stop: 412\n",
    "+ Supermarket: 2195\n",
    "+ Market (this will also return grocery shop): 1509\n",
    "+ Police station: 756\n",
    "+ Hospital: 528\n",
    "+ Shopping centre (some shopping centre does include supermarket): 664\n",
    "\n",
    "The result is saved in `data/spatial-data/infrastructure.csv`\n",
    "\n",
    "<br>\n",
    "\n",
    "**Distance to nearest place of interest**:\n",
    "\n",
    "After places of interest is retrived, the distance from each property to the nearest place of interest is the calculated in `notebooks/spatial-data/distance.ipynb`\n",
    "\n",
    "We initially used [OpenRouteService](openrouteservice.org) API to get the distance and duration, however this took too long so we decided to use the rest of our google free credit\n",
    "\n",
    "The result is saved in `data/spatial-data/distance_duration.csv`\n",
    "\n",
    "***\n",
    "<BR>"
   ]
  },
  {
   "cell_type": "markdown",
   "metadata": {},
   "source": [
    "### 3.2. Preprocess\n",
    "\n",
    "#### preprocess-raw\n",
    "`/notebooks/preprocess-raw/population_to_raw.ipynb`:\n",
    "+ Imported population data from  `data/landing/SA2_Population.xlsx `\n",
    "+ Removed unnecessary columns\n",
    "+ Changed column names\n",
    "+ The result is saved to  `data/raw/processed_population_data.csv`\n",
    "\n",
    "`/notebooks/preprocess-raw/annual_rent_to_raw.ipynb`:\n",
    "+ Imported annual rent data from `data/landing/moving_annual_rent.xlsx` \n",
    "+ Iterate through columns to extract month/year and corresponding Count and Media\n",
    "+ Extract count and median values for the suburbs\n",
    "+ The result is saved to `data/raw/annual_rent`\n",
    "\n",
    "`/notebooks/preprocess-raw/properties_domain_to_raw.ipynb`:\n",
    "+ Imported scraped domain property data from  `data/landing/domain_properties.json `\n",
    "+ Remove unnecessary columns\n",
    "+ Convert data to desired data types\n",
    "+The result is saved to `data/raw/raw_domain_properties.csv`\n",
    "\n",
    "`/notebooks/preprocess-raw/crime_to_raw.ipynb`:\n",
    "+ Imported crime data from  `data/landing/crime_stat_March_2023.xlsx `\n",
    "+ Remove unnecessary columns\n",
    "+ Convert data to desired data types\n",
    "+ The result is saved to `data/raw/crime.csv`\n",
    "\n",
    "`/notebooks/preprocess-raw/school_location_to_raw.ipynb`:\n",
    "+ Imported school location data from `data/landing/School_Locations.csv` \n",
    "+ Convert all the features name to lowercase\n",
    "+ Drop columns contain missing values\n",
    "+ Convert data types into correct format\n",
    "+ Rename columns for simplification\n",
    "+ Visualise the distribution of school per surbub\n",
    "+ The result is saved to `data/raw/raw_school_locations.csv`\n",
    "\n",
    "#### preprocess-curated\n",
    "\n",
    " `/notebooks/preprocess-curated/annual_rent_to_curated.ipynb`:\n",
    "+ Imported all annual rent datasets from  `data/raw/annual_rent `\n",
    "+ Dropped property count columns\n",
    "+ Converted column names to new format\n",
    "+ Dropped columns from before 2015\n",
    "+ Converted data from str to int\n",
    "+ Calculate the average growth rate across all suburbs\n",
    "+ Use this to impute missing values\n",
    "+ For rows with all missing values, impute using column mean\n",
    "+ The result is saved to new directory  `data/curated/annual_rent/`\n",
    "\n",
    "\n",
    "`/notebooks/preprocess-curated/properties_domain_to_curated.ipynb`:\n",
    "+ Import domain property data from  `data/raw/raw_domain_properties.csv `\n",
    "+ Ensure correct data types\n",
    "+ Changed rent to price per week\n",
    "+ Removed duplicate properties\n",
    "+ Encode URLs to ID\n",
    "+ Impute missing value for the bond amount, using average of that type of property and suburb\n",
    "+ Fill missing values with 0 for bedrooms, bathrooms and parking spots.\n",
    "+ Create variable indicating if property is furnished or not\n",
    "+ Aggregate house types to  `House `,  `Apartment/Flat/Unit ` and  `Other `\n",
    "+ Remove outliers with too low/high price\n",
    "+ The result is saved to `data/curated/curated_domain_properties.csv`\n",
    "\n",
    "`/notebooks/preprocess-curated/crime_to_curated.ipynb`:\n",
    "+ Import crime data from  `data/raw/crime.csv `\n",
    "+ Changed date format\n",
    "+ Group crimes by offense division\n",
    "+ Dropped data from before 2015\n",
    "+ The result is saved to `data/curated/curated_crime.csv`\n",
    "\n",
    "`/notebooks/preprocess-curated/school_location_to_curated.ipynb`:\n",
    "+ Import school location data from `data/raw/raw_school_locations.csv`\n",
    "+ Drop unnecessary columns\n",
    "+ Convert 'suburb' values to lowercase\n",
    "+ The result is saved to `data/curated/curated_school_location.csv`\n",
    "\n",
    "`/notebooks/preprocess-curated/population_to_curated.ipynb`:\n",
    "+ Import population data from `data/raw/processed_population_data.csv`\n",
    "+ Drop data before 2015 and also 'SA2 Code' columns\n",
    "+ Predict data for 2023 using Linear Regression\n",
    "+ Convert everything to lowercase\n",
    "+ The result is saved to `data/curated/curated_population.csv`\n",
    "\n",
    "\n",
    "`/notebooks/preprocess-curated/income_to_curated.ipynb`:\n",
    "+ Import income data from `data/raw/processed_income_data.csv`\n",
    "+ Predict income for 2020, 2021 and 2022 using GDP growth rate per capita from previous year\n",
    "+ Predict 2023 income using Linear Regression\n",
    "+ Drop unnecessary column and convert to lowercase\n",
    "+ The result is saved to `data/curated/curated_income.csv`\n",
    "\n",
    "\n",
    "`notebooks/spatial-data/region_to_SA2.ipynb`;\n",
    "+ Get the bounding box of each region by Google map API\n",
    "+ Assign weight for each region by the shared area of that region with it each SA2 district\n",
    "+ The result is saved to `data/spatial-data/mapper_matrix.csv`\n",
    "\n",
    "***\n",
    "<BR>"
   ]
  },
  {
   "cell_type": "markdown",
   "metadata": {},
   "source": [
    "### 3. Merge data"
   ]
  },
  {
   "cell_type": "markdown",
   "metadata": {},
   "source": [
    "`notebooks/merge_data.ipynb`\n",
    "+ Combine curated dataset of SA2 district and map each region data to SA2 district into one file and save it to `data/curated/sa2_data_by_year.csv`\n",
    "+ Combine SA2 data of 2023 to property data and save it to `data/curated/prop_feature.csv`\n",
    "\n",
    "\n",
    "***"
   ]
  },
  {
   "cell_type": "markdown",
   "metadata": {},
   "source": [
    "### 3.4 Model\n",
    "***"
   ]
  },
  {
   "cell_type": "markdown",
   "metadata": {},
   "source": [
    "#### 3.4.1 Propterty feature"
   ]
  },
  {
   "cell_type": "markdown",
   "metadata": {},
   "source": [
    "This model is intended to answer the first objective: **Identify key internal and external features that influence rental price** and is done in `models/full_model.ipynb`\n",
    "\n",
    "\n",
    "+ To achieve this, we used the data of each property with the initial features: \n",
    "\n",
    "Features: id ,  postcode ,  type ,  price (per week) ,  bond ,  bed ,  bath ,  parking ,  is_furnished ,  latitude ,  longitude ,  sa2 ,dist_CBD ,\n",
    "dist_public_transport ,  dist_hospital ,  dist_police_station ,\n",
    "dist_supermarket ,  dist_market ,  dist_shopping_center ,\n",
    "dist_school ,  dur_CBD ,  dur_public_transport ,  dur_hospital ,\n",
    "dur_police_station ,  dur_supermarket ,  dur_market ,\n",
    "dur_shopping_center ,  dur_school ,  income ,  population_density ,\n",
    "crime_density ,  rent (SA2 district average rent)\n",
    "\n",
    "+ We then did a stepwise selection using OLS for an initial understanding and select the subset of the feature:\n",
    "\n",
    "Features selected with importance in order:    bath ,\n",
    "                                                                        rent ,\n",
    "                                                                        bond,\n",
    "                                                                        income,\n",
    "                                                                        bed,\n",
    "                                                                        crime_density,\n",
    "                                                                        is_furnished,\n",
    "                                                                        dist_police_station,\n",
    "                                                                        dist_hospital,\n",
    "                                                                        parking,\n",
    "                                                                        dist_CBD,\n",
    "                                                                        dist_market,\n",
    "                                                                        population_density,\n",
    "                                                                        dist_shopping_center\n",
    "\n",
    "+ We then fit the data on a RandomForest model and uses grid search for the best hyperparameter and then extract the feature importance of the best model\n",
    "\n",
    "<img src=\"markdown-img/full_model_feature_importance.png\" alt=\"feature_importance\" width=220 heigth=375>\n",
    "\n",
    "***"
   ]
  },
  {
   "cell_type": "markdown",
   "metadata": {},
   "source": [
    "#### 3.4.2 SA2 model"
   ]
  },
  {
   "cell_type": "markdown",
   "metadata": {},
   "source": [
    "This model aims to answer the second and third objective:\n",
    "**Identify the top 10 regions with the highest predicted growth rates**, and \n",
    "**Determine the most liveable and affordable region** which is done in `models/sa2_model.ipynb`\n",
    "\n",
    "+ We first scale our data and grid search for the best hyperparameter of AgglomerativeClustering and Kmeans with silhouette_score as the evaluating metric. \n",
    "+ We then label the SA2 district using  Agglomerative Clustering with 3 cluster.\n",
    "+ For each of the feature: average rental price, income, population density, crime density, we fit data with the group label on seperate linear regression.\n",
    "+ We then predict the growth of each SA2 district to 2028\n",
    "+ Growth rate for each year is then calculated with the composite grow index (CGI) as follow:\n",
    "\n",
    "<div align=\"center\">\n",
    "  <img src=\"markdown-img/growth_by_year_formular.png\" width=335 width=51>\n",
    "</div>\n",
    "\n",
    "<div align=\"center\">\n",
    "  <img src=\"markdown-img/CGI_define.png\" width=622 height=51>\n",
    "</div>\n",
    "\n",
    "+ We then calculate the livability and affortability with the metric below with AFF as affordability, GD as grocery shop density, PSG as police station density, HD as hospital density, PTD as public transport density, and SCD as shopping center density\n",
    "\n",
    "<div style='text-align: center;'>\n",
    "  <img src=\"markdown-img/Affordability_Livability_define.png\" width=383 heigth=118>\n",
    "</div>\n",
    "\n",
    "\n"
   ]
  },
  {
   "cell_type": "markdown",
   "metadata": {},
   "source": [
    "## 4. Limitation"
   ]
  },
  {
   "cell_type": "markdown",
   "metadata": {},
   "source": [
    "+ Due to COVID 19, there is a drop in growth rate in 2021. This is an anomally in our model that we included in that could skew the prediction of future growth\n",
    "+ We couldn't find the shapefile for all of VIC region so we have to approximate data for SA2 district by using the region bounding box and SA2 district bounding box\n"
   ]
  }
 ],
 "metadata": {
  "kernelspec": {
   "display_name": "Python 3 (ipykernel)",
   "language": "python",
   "name": "python3"
  },
  "language_info": {
   "codemirror_mode": {
    "name": "ipython",
    "version": 3
   },
   "file_extension": ".py",
   "mimetype": "text/x-python",
   "name": "python",
   "nbconvert_exporter": "python",
   "pygments_lexer": "ipython3",
   "version": "3.9.13"
  }
 },
 "nbformat": 4,
 "nbformat_minor": 2
}
