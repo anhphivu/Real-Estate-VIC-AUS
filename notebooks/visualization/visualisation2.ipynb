{
 "cells": [
  {
   "cell_type": "code",
   "execution_count": null,
   "metadata": {},
   "outputs": [],
   "source": [
    "import os\n",
    "\n",
    "import pandas as pd\n",
    "import numpy as np\n",
    "\n",
    "import geopandas as gpd\n",
    "import folium\n",
    "\n",
    "import matplotlib.pyplot as plt"
   ]
  },
  {
   "cell_type": "code",
   "execution_count": null,
   "metadata": {},
   "outputs": [],
   "source": [
    "# function to create heatmap\n",
    "def create_heatmap(geo_data, data, id_col, value_col, legend_name, center = [-37.8136, 144.9631], zoom_start=10, colormap='YlOrRd'):\n",
    "    \"\"\"\n",
    "    Plots a choropleth map using folium.\n",
    "\n",
    "    Parameters:\n",
    "    - geo_data: GeoDataFrame containing the geometry information\n",
    "    - data: DataFrame containing the data to be visualized\n",
    "    - id_col: Column in geo_data that matches the 'id' in the GeoJSON representation\n",
    "    - value_col: Column in data that contains the values to be visualized\n",
    "    - legend_name: Legend Name\n",
    "    - zoom_start: Initial zoom level for the map\n",
    "    - colormap: Color map for the choropleth visualization\n",
    "    \"\"\"\n",
    "    \n",
    "    # Create a base map\n",
    "    m = folium.Map(location=center, zoom_start=zoom_start, tiles='cartodb positron')\n",
    "    \n",
    "    # Plot the choropleth\n",
    "    folium.Choropleth(\n",
    "        geo_data=geo_data.to_json(),\n",
    "        data=data,\n",
    "        columns=[id_col, value_col],\n",
    "        key_on=f'feature.properties.{id_col}',\n",
    "        fill_color=colormap,\n",
    "        legend_name=legend_name,\n",
    "        nan_fill_color=\"white\",\n",
    "        highlight=True\n",
    "    ).add_to(m)\n",
    "    \n",
    "    return m"
   ]
  },
  {
   "cell_type": "code",
   "execution_count": null,
   "metadata": {},
   "outputs": [],
   "source": [
    "# read in shapefile for visualisations\n",
    "sf_SA2 = gpd.read_file(\"../../data/landing/SA2_2021_AUST_GDA2020.shp\")\n",
    "\n",
    "# taking only victoria borders\n",
    "sf_SA2 = sf_SA2[sf_SA2['STE_NAME21'] == 'Victoria']\n",
    "\n",
    "# convert to lowercase\n",
    "sf_SA2['SA2_NAME21'] = sf_SA2['SA2_NAME21'].str.lower()"
   ]
  },
  {
   "cell_type": "markdown",
   "metadata": {},
   "source": [
    "## Income Heatmap\n"
   ]
  },
  {
   "cell_type": "code",
   "execution_count": null,
   "metadata": {},
   "outputs": [],
   "source": [
    "# read in data\n",
    "df_inc = pd.read_csv('../../data/curated/curated_income.csv')\n",
    "\n",
    "# merge dataframes\n",
    "gdf_inc = sf_SA2.merge(df_inc, left_on = 'SA2_NAME21', right_on = 'sa2 name', how = 'left')\n",
    "\n",
    "# plot chloropleth map\n",
    "heatmap_inc = create_heatmap(geo_data = gdf_inc, data = gdf_inc, \n",
    "                                 id_col = 'SA2_NAME21', value_col = '2023', legend_name = 'Average Income (Projected 2023)')\n",
    "\n",
    "heatmap_inc.save('../../plots/income_heatmap.html')\n",
    "heatmap_inc"
   ]
  },
  {
   "cell_type": "markdown",
   "metadata": {},
   "source": [
    "## Population Heatmap"
   ]
  },
  {
   "cell_type": "code",
   "execution_count": null,
   "metadata": {},
   "outputs": [],
   "source": [
    "# read in data\n",
    "df_pop = pd.read_csv('../../data/curated/curated_population.csv')\n",
    "\n",
    "# merge dataframes\n",
    "gdf_pop = sf_SA2.merge(df_pop, left_on = 'SA2_NAME21', right_on = 'sa2 name', how = 'left')\n",
    "\n",
    "# plot chloropleth map\n",
    "heatmap_pop = create_heatmap(geo_data = gdf_pop, data = gdf_pop, \n",
    "                                 id_col = 'SA2_NAME21', value_col = '2023', legend_name = 'Population (Projected 2023)')\n",
    "\n",
    "heatmap_pop.save('../../plots/population_heatmap.html')\n",
    "heatmap_pop"
   ]
  },
  {
   "cell_type": "markdown",
   "metadata": {},
   "source": [
    "## Past Rental Price Distribution"
   ]
  },
  {
   "cell_type": "code",
   "execution_count": null,
   "metadata": {},
   "outputs": [],
   "source": [
    "# read in data\n",
    "df_rent = pd.read_csv('../../data/mapped/mapped_rent_av.csv')\n",
    "\n",
    "# calculate top 10 most expensive on average\n",
    "df_rent['mean_price'] = df_rent.iloc[:, 1:].mean(axis=1)\n",
    "top10 = df_rent.sort_values(by='mean_price', ascending=False).head(10)\n",
    "\n",
    "# plot\n",
    "plt.figure(figsize = (16, 8))\n",
    "\n",
    "# iterate through the top 10, one line at a time\n",
    "for idx, row in top10.iterrows():\n",
    "    plt.plot(row.index[1:-1], row.values[1:-1], label=row['sa2'], marker='o')\n",
    "    \n",
    "plt.title('Median weekly rent for the top 10 most expensive suburbs', fontsize=30, y=1.008)\n",
    "plt.xticks(fontsize=15)\n",
    "plt.yticks(fontsize=15)\n",
    "plt.ylabel('Weekly Rent ($AUD)', fontsize=20)\n",
    "plt.legend()\n",
    "plt.grid(True, which='both', linestyle='--', linewidth=0.5)\n",
    "plt.xlabel('Year', fontsize=20)\n",
    "\n",
    "plt.savefig('../../plots/suburb_rent_line.png')\n",
    "plt.show()"
   ]
  }
 ],
 "metadata": {
  "language_info": {
   "name": "python"
  }
 },
 "nbformat": 4,
 "nbformat_minor": 2
}
