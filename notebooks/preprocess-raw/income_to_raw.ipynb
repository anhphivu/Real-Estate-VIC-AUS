{
 "cells": [
  {
   "cell_type": "code",
   "execution_count": 8,
   "id": "81fe3670",
   "metadata": {},
   "outputs": [],
   "source": [
    "import os\n",
    "\n",
    "import pandas as pd\n",
    "import numpy as np\n",
    "\n",
    "from sklearn.linear_model import LinearRegression"
   ]
  },
  {
   "cell_type": "code",
   "execution_count": 9,
   "id": "f5459123",
   "metadata": {},
   "outputs": [],
   "source": [
    "# read in data\n",
    "\n",
    "df = pd.read_excel('../../data/landing/SA2_Income.xlsx', sheet_name = \"Table 1.4\", header = 6)"
   ]
  },
  {
   "cell_type": "code",
   "execution_count": 10,
   "id": "8de04d80",
   "metadata": {},
   "outputs": [],
   "source": [
    "# cut out non-victorian results\n",
    "\n",
    "df = df.loc[579 : 1040]"
   ]
  },
  {
   "cell_type": "code",
   "execution_count": 11,
   "id": "b5023006",
   "metadata": {},
   "outputs": [],
   "source": [
    "# create new dataframe with median incomes\n",
    "\n",
    "process_df = pd.concat([df['SA2'], df['SA2 NAME'], df['2015-16.3'], df['2016-17.3'], df['2017-18.3'], df['2018-19.3'], df['2019-20.3']], axis = 1)\n",
    "                       \n",
    "del df"
   ]
  },
  {
   "cell_type": "code",
   "execution_count": 12,
   "id": "5380ed8e",
   "metadata": {},
   "outputs": [],
   "source": [
    "# rename columns\n",
    "process_df = process_df.rename(columns = {'SA2' : 'SA2 Code', 'SA2 NAME' : 'SA2 Name', '2015-16.3' : '2015', '2016-17.3' : '2016', '2017-18.3' : '2017', '2018-19.3' : '2018', '2019-20.3' : '2019'})\n",
    "\n",
    "# reset index\n",
    "process_df = process_df.reset_index().drop(['index'], axis = 1)"
   ]
  },
  {
   "cell_type": "code",
   "execution_count": 13,
   "id": "51b29759",
   "metadata": {},
   "outputs": [],
   "source": [
    "# save data\n",
    "\n",
    "process_df.to_csv('../../data/raw/processed_income_data.csv', index = False)"
   ]
  },
  {
   "cell_type": "code",
   "execution_count": 14,
   "id": "d77205a5",
   "metadata": {},
   "outputs": [
    {
     "data": {
      "text/plain": [
       "{'Alfredton': {'Income in 2020': 56780,\n",
       "  'Income in 2021': 58252,\n",
       "  'Income in 2022': 59725,\n",
       "  'Income in 2023': 61197,\n",
       "  'Income in 2024': 62670,\n",
       "  'Income in 2025': 64142,\n",
       "  'Income in 2026': 65615},\n",
       " 'Ballarat': {'Income in 2020': 55351,\n",
       "  'Income in 2021': 56523,\n",
       "  'Income in 2022': 57694,\n",
       "  'Income in 2023': 58866,\n",
       "  'Income in 2024': 60037,\n",
       "  'Income in 2025': 61209,\n",
       "  'Income in 2026': 62380},\n",
       " 'Ballarat - North': {'Income in 2020': 53810,\n",
       "  'Income in 2021': 55464,\n",
       "  'Income in 2022': 57117,\n",
       "  'Income in 2023': 58771,\n",
       "  'Income in 2024': 60425,\n",
       "  'Income in 2025': 62078,\n",
       "  'Income in 2026': 63732},\n",
       " 'Ballarat - South': {'Income in 2020': 48509,\n",
       "  'Income in 2021': 49932,\n",
       "  'Income in 2022': 51355,\n",
       "  'Income in 2023': 52778,\n",
       "  'Income in 2024': 54201,\n",
       "  'Income in 2025': 55624,\n",
       "  'Income in 2026': 57047},\n",
       " 'Buninyong': {'Income in 2020': 55919,\n",
       "  'Income in 2021': 57598,\n",
       "  'Income in 2022': 59277,\n",
       "  'Income in 2023': 60957,\n",
       "  'Income in 2024': 62636,\n",
       "  'Income in 2025': 64315,\n",
       "  'Income in 2026': 65994}}"
      ]
     },
     "execution_count": 14,
     "metadata": {},
     "output_type": "execute_result"
    }
   ],
   "source": [
    "# Linear regression to predict income in 2020, 2021, 2022, 2023, 2024, 2025 and 2026\n",
    "\n",
    "# Dropping the unnecessary columns\n",
    "process_df = process_df.drop(columns=[\"SA2 Code\"])\n",
    "\n",
    "# remove missing values\n",
    "process_df = process_df.replace('np', np.NaN).dropna()\n",
    "\n",
    "# Reshaping data to long format\n",
    "df_long_uploaded = process_df.melt(id_vars=[\"SA2 Name\"], \n",
    "                                    var_name=\"Year\",\n",
    "                                    value_name=\"Income\")\n",
    "df_long_uploaded[\"Year\"] = df_long_uploaded[\"Year\"].astype(int)\n",
    "\n",
    "# Filter out rows with non-numeric values in the Income column\n",
    "df_long_uploaded = df_long_uploaded[df_long_uploaded['Income'].apply(lambda x: str(x).replace('.', '').isnumeric())]\n",
    "df_long_uploaded[\"Income\"] = df_long_uploaded[\"Income\"].astype(float)\n",
    "\n",
    "# Dictionary to store predictions\n",
    "predictions_corrected_data = {}\n",
    "\n",
    "# define future year\n",
    "future_years = [2020, 2021, 2022, 2023, 2024, 2025, 2026]\n",
    "\n",
    "# Performing linear regression for each SA2 Name\n",
    "for sa2_name in process_df['SA2 Name'].unique():\n",
    "    # Filter the dataset for the current SA2 Name\n",
    "    sa2_data = df_long_uploaded[df_long_uploaded['SA2 Name'] == sa2_name]\n",
    "    \n",
    "    # Check if there's enough data for the current SA2 Name\n",
    "    if sa2_data.shape[0] < 2:\n",
    "        continue\n",
    "    \n",
    "    X = sa2_data['Year'].values.reshape(-1, 1)  # Features (years)\n",
    "    y = sa2_data['Income'].values               # Target (income)\n",
    "    \n",
    "    # Train the model\n",
    "    model = LinearRegression()\n",
    "    model.fit(X, y)\n",
    "    \n",
    "    # Predict for the future years\n",
    "    y_pred = model.predict(np.array(future_years).reshape(-1, 1))\n",
    "    \n",
    "    # Store predictions\n",
    "    predictions_corrected_data[sa2_name] = {f\"Income in {year}\": int(pred) for year, pred in zip(future_years, y_pred)}\n",
    "\n",
    "# Taking a subset of the predictions for display (first 5 SA2 Names)\n",
    "subset_predictions_corrected = {key: predictions_corrected_data[key] for key in list(predictions_corrected_data)[:5]}\n",
    "subset_predictions_corrected\n"
   ]
  }
 ],
 "metadata": {
  "kernelspec": {
   "display_name": "Python 3 (ipykernel)",
   "language": "python",
   "name": "python3"
  },
  "language_info": {
   "codemirror_mode": {
    "name": "ipython",
    "version": 3
   },
   "file_extension": ".py",
   "mimetype": "text/x-python",
   "name": "python",
   "nbconvert_exporter": "python",
   "pygments_lexer": "ipython3",
   "version": "3.10.12"
  }
 },
 "nbformat": 4,
 "nbformat_minor": 5
}
